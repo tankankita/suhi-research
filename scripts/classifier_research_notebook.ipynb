{
 "cells": [
  {
   "cell_type": "code",
   "execution_count": 1,
   "id": "e3ba1874",
   "metadata": {},
   "outputs": [
    {
     "name": "stdout",
     "output_type": "stream",
     "text": [
      "Defaulting to user installation because normal site-packages is not writeable\n",
      "Requirement already satisfied: numpy in /Users/tank/Library/Python/3.9/lib/python/site-packages (1.26.4)\n",
      "Requirement already satisfied: pandas in /Users/tank/Library/Python/3.9/lib/python/site-packages (2.2.3)\n",
      "Requirement already satisfied: nltk in /Users/tank/Library/Python/3.9/lib/python/site-packages (3.9.1)\n",
      "Requirement already satisfied: scikit-learn in /Users/tank/Library/Python/3.9/lib/python/site-packages (1.6.1)\n",
      "Requirement already satisfied: xgboost in /Users/tank/Library/Python/3.9/lib/python/site-packages (2.1.4)\n",
      "Requirement already satisfied: transformers in /Users/tank/Library/Python/3.9/lib/python/site-packages (4.40.1)\n",
      "Requirement already satisfied: matplotlib in /Users/tank/Library/Python/3.9/lib/python/site-packages (3.9.4)\n",
      "Requirement already satisfied: tqdm in /Users/tank/Library/Python/3.9/lib/python/site-packages (4.67.1)\n",
      "Requirement already satisfied: joblib in /Users/tank/Library/Python/3.9/lib/python/site-packages (1.4.2)\n",
      "Requirement already satisfied: torch in /Users/tank/Library/Python/3.9/lib/python/site-packages (2.6.0)\n",
      "Requirement already satisfied: openpyxl in /Users/tank/Library/Python/3.9/lib/python/site-packages (3.1.5)\n",
      "Requirement already satisfied: python-dateutil>=2.8.2 in /Users/tank/Library/Python/3.9/lib/python/site-packages (from pandas) (2.9.0.post0)\n",
      "Requirement already satisfied: pytz>=2020.1 in /Users/tank/Library/Python/3.9/lib/python/site-packages (from pandas) (2025.1)\n",
      "Requirement already satisfied: tzdata>=2022.7 in /Users/tank/Library/Python/3.9/lib/python/site-packages (from pandas) (2025.1)\n",
      "Requirement already satisfied: click in /Users/tank/Library/Python/3.9/lib/python/site-packages (from nltk) (8.1.8)\n",
      "Requirement already satisfied: regex>=2021.8.3 in /Users/tank/Library/Python/3.9/lib/python/site-packages (from nltk) (2024.11.6)\n",
      "Requirement already satisfied: scipy>=1.6.0 in /Users/tank/Library/Python/3.9/lib/python/site-packages (from scikit-learn) (1.13.1)\n",
      "Requirement already satisfied: threadpoolctl>=3.1.0 in /Users/tank/Library/Python/3.9/lib/python/site-packages (from scikit-learn) (3.6.0)\n",
      "Requirement already satisfied: filelock in /Users/tank/Library/Python/3.9/lib/python/site-packages (from transformers) (3.17.0)\n",
      "Requirement already satisfied: huggingface-hub<1.0,>=0.19.3 in /Users/tank/Library/Python/3.9/lib/python/site-packages (from transformers) (0.32.1)\n",
      "Requirement already satisfied: packaging>=20.0 in /Users/tank/Library/Python/3.9/lib/python/site-packages (from transformers) (24.2)\n",
      "Requirement already satisfied: pyyaml>=5.1 in /Users/tank/Library/Python/3.9/lib/python/site-packages (from transformers) (6.0.2)\n",
      "Requirement already satisfied: requests in /Users/tank/Library/Python/3.9/lib/python/site-packages (from transformers) (2.32.3)\n",
      "Requirement already satisfied: tokenizers<0.20,>=0.19 in /Users/tank/Library/Python/3.9/lib/python/site-packages (from transformers) (0.19.1)\n",
      "Requirement already satisfied: safetensors>=0.4.1 in /Users/tank/Library/Python/3.9/lib/python/site-packages (from transformers) (0.5.3)\n",
      "Requirement already satisfied: fsspec>=2023.5.0 in /Users/tank/Library/Python/3.9/lib/python/site-packages (from huggingface-hub<1.0,>=0.19.3->transformers) (2023.6.0)\n",
      "Requirement already satisfied: typing-extensions>=3.7.4.3 in /Users/tank/Library/Python/3.9/lib/python/site-packages (from huggingface-hub<1.0,>=0.19.3->transformers) (4.12.2)\n",
      "Requirement already satisfied: hf-xet<2.0.0,>=1.1.2 in /Users/tank/Library/Python/3.9/lib/python/site-packages (from huggingface-hub<1.0,>=0.19.3->transformers) (1.1.2)\n",
      "Requirement already satisfied: contourpy>=1.0.1 in /Users/tank/Library/Python/3.9/lib/python/site-packages (from matplotlib) (1.3.0)\n",
      "Requirement already satisfied: cycler>=0.10 in /Users/tank/Library/Python/3.9/lib/python/site-packages (from matplotlib) (0.12.1)\n",
      "Requirement already satisfied: fonttools>=4.22.0 in /Users/tank/Library/Python/3.9/lib/python/site-packages (from matplotlib) (4.56.0)\n",
      "Requirement already satisfied: kiwisolver>=1.3.1 in /Users/tank/Library/Python/3.9/lib/python/site-packages (from matplotlib) (1.4.7)\n",
      "Requirement already satisfied: pillow>=8 in /Users/tank/Library/Python/3.9/lib/python/site-packages (from matplotlib) (11.1.0)\n",
      "Requirement already satisfied: pyparsing>=2.3.1 in /Users/tank/Library/Python/3.9/lib/python/site-packages (from matplotlib) (3.2.1)\n",
      "Requirement already satisfied: importlib-resources>=3.2.0 in /Users/tank/Library/Python/3.9/lib/python/site-packages (from matplotlib) (6.5.2)\n",
      "Requirement already satisfied: networkx in /Users/tank/Library/Python/3.9/lib/python/site-packages (from torch) (3.2.1)\n",
      "Requirement already satisfied: jinja2 in /Users/tank/Library/Python/3.9/lib/python/site-packages (from torch) (3.1.5)\n",
      "Requirement already satisfied: sympy==1.13.1 in /Users/tank/Library/Python/3.9/lib/python/site-packages (from torch) (1.13.1)\n",
      "Requirement already satisfied: mpmath<1.4,>=1.1.0 in /Users/tank/Library/Python/3.9/lib/python/site-packages (from sympy==1.13.1->torch) (1.3.0)\n",
      "Requirement already satisfied: et-xmlfile in /Users/tank/Library/Python/3.9/lib/python/site-packages (from openpyxl) (2.0.0)\n",
      "Requirement already satisfied: zipp>=3.1.0 in /Users/tank/Library/Python/3.9/lib/python/site-packages (from importlib-resources>=3.2.0->matplotlib) (3.21.0)\n",
      "Requirement already satisfied: six>=1.5 in /Library/Developer/CommandLineTools/Library/Frameworks/Python3.framework/Versions/3.9/lib/python3.9/site-packages (from python-dateutil>=2.8.2->pandas) (1.15.0)\n",
      "Requirement already satisfied: MarkupSafe>=2.0 in /Users/tank/Library/Python/3.9/lib/python/site-packages (from jinja2->torch) (3.0.2)\n",
      "Requirement already satisfied: charset-normalizer<4,>=2 in /Users/tank/Library/Python/3.9/lib/python/site-packages (from requests->transformers) (3.4.1)\n",
      "Requirement already satisfied: idna<4,>=2.5 in /Users/tank/Library/Python/3.9/lib/python/site-packages (from requests->transformers) (3.10)\n",
      "Requirement already satisfied: urllib3<3,>=1.21.1 in /Users/tank/Library/Python/3.9/lib/python/site-packages (from requests->transformers) (2.4.0)\n",
      "Requirement already satisfied: certifi>=2017.4.17 in /Users/tank/Library/Python/3.9/lib/python/site-packages (from requests->transformers) (2025.1.31)\n"
     ]
    }
   ],
   "source": [
    "!pip install numpy pandas nltk scikit-learn xgboost transformers matplotlib tqdm joblib torch openpyxl tqdm"
   ]
  },
  {
   "cell_type": "code",
   "execution_count": 2,
   "id": "87c8bdc9",
   "metadata": {},
   "outputs": [
    {
     "name": "stderr",
     "output_type": "stream",
     "text": [
      "/Users/tank/Library/Python/3.9/lib/python/site-packages/urllib3/__init__.py:35: NotOpenSSLWarning: urllib3 v2 only supports OpenSSL 1.1.1+, currently the 'ssl' module is compiled with 'LibreSSL 2.8.3'. See: https://github.com/urllib3/urllib3/issues/3020\n",
      "  warnings.warn(\n",
      "/Users/tank/Library/Python/3.9/lib/python/site-packages/tqdm/auto.py:21: TqdmWarning: IProgress not found. Please update jupyter and ipywidgets. See https://ipywidgets.readthedocs.io/en/stable/user_install.html\n",
      "  from .autonotebook import tqdm as notebook_tqdm\n"
     ]
    },
    {
     "data": {
      "text/plain": [
       "<joblib.parallel.parallel_backend at 0x313c34a90>"
      ]
     },
     "execution_count": 2,
     "metadata": {},
     "output_type": "execute_result"
    }
   ],
   "source": [
    "import matplotlib.pyplot as plt\n",
    "import numpy as np\n",
    "import pandas as pd\n",
    "import nltk\n",
    "import os\n",
    "import re\n",
    "import warnings\n",
    "import joblib\n",
    "import matplotlib\n",
    "import torch\n",
    "\n",
    "from sklearn.metrics import accuracy_score, classification_report, roc_auc_score, recall_score, roc_curve, precision_recall_curve, auc\n",
    "from sklearn.ensemble import RandomForestClassifier, AdaBoostClassifier, VotingClassifier\n",
    "from sklearn.model_selection import GridSearchCV, train_test_split, StratifiedKFold\n",
    "from sklearn.feature_extraction.text import TfidfVectorizer\n",
    "from sklearn.preprocessing import MinMaxScaler\n",
    "from transformers import BertModel, BertTokenizer\n",
    "from nltk.stem import WordNetLemmatizer\n",
    "from sklearn.decomposition import PCA\n",
    "from xgboost import XGBClassifier\n",
    "from nltk.corpus import stopwords\n",
    "from tqdm import tqdm\n",
    "\n",
    "\n",
    "matplotlib.use('Agg')\n",
    "warnings.filterwarnings('ignore')\n",
    "joblib.parallel_backend('loky', inner_max_num_threads=1)\n",
    "\n"
   ]
  },
  {
   "cell_type": "code",
   "execution_count": 3,
   "id": "11fc6402",
   "metadata": {},
   "outputs": [
    {
     "name": "stdout",
     "output_type": "stream",
     "text": [
      "['/Users/tank/nltk_data', '/Library/Developer/CommandLineTools/Library/Frameworks/Python3.framework/Versions/3.9/nltk_data', '/Library/Developer/CommandLineTools/Library/Frameworks/Python3.framework/Versions/3.9/share/nltk_data', '/Library/Developer/CommandLineTools/Library/Frameworks/Python3.framework/Versions/3.9/lib/nltk_data', '/usr/share/nltk_data', '/usr/local/share/nltk_data', '/usr/lib/nltk_data', '/usr/local/lib/nltk_data']\n"
     ]
    }
   ],
   "source": [
    "print(nltk.data.path)\n"
   ]
  },
  {
   "cell_type": "code",
   "execution_count": 4,
   "id": "25a9a807",
   "metadata": {},
   "outputs": [],
   "source": [
    "\n",
    "# NLTK setup\n",
    "# nltk.download('stopwords')\n",
    "# nltk.download('punkt')\n",
    "# nltk.download('wordnet')\n",
    "nltk.data.path.append(\"../local_uploads/nltk_data\")"
   ]
  },
  {
   "cell_type": "code",
   "execution_count": 5,
   "id": "a69f2048",
   "metadata": {},
   "outputs": [],
   "source": [
    "stop_words = set(stopwords.words('english'))\n",
    "lemmatizer = WordNetLemmatizer()\n",
    "min_max_scaler = MinMaxScaler()"
   ]
  },
  {
   "cell_type": "code",
   "execution_count": 6,
   "id": "42b7b63a",
   "metadata": {},
   "outputs": [],
   "source": [
    "###############################################################################\n",
    "# Utility function: Append a single row (dict) to CSV, with an auto-incremented Run ID\n",
    "###############################################################################\n",
    "def append_results_to_csv(results_dict, csv_file):\n",
    "    # Check if the file exists\n",
    "    if os.path.exists(csv_file):\n",
    "        df_existing = pd.read_csv(csv_file)\n",
    "        if 'Run ID' in df_existing.columns:\n",
    "            max_run_id = df_existing['Run ID'].max()\n",
    "        else:\n",
    "\n",
    "            max_run_id = 0\n",
    "        new_run_id = max_run_id + 1\n",
    "        results_dict['Run ID'] = new_run_id\n",
    "            \n",
    "        # Append the new row\n",
    "        df_new = pd.DataFrame([results_dict])\n",
    "        df_combined = pd.concat([df_existing, df_new], ignore_index=True)\n",
    "        df_combined.to_csv(csv_file, index=False)\n",
    "    else:\n",
    "        # If no file, create a new DataFrame\n",
    "        results_dict['Run ID'] = 1\n",
    "        df_new = pd.DataFrame([results_dict])\n",
    "        df_new.to_csv(csv_file, index=False)"
   ]
  },
  {
   "cell_type": "code",
   "execution_count": 7,
   "id": "83fa4269",
   "metadata": {},
   "outputs": [],
   "source": [
    "# # include words that satisfy token_pattern=r'[a-zA-Z]{2,}'\n",
    "def filter_tokens_in_notes(notes):\n",
    "    pattern = re.compile(r'[a-zA-Z]{2,}')\n",
    "    filtered_notes = []\n",
    "    for note in notes:\n",
    "        # Find all tokens that match the pattern\n",
    "        filtered_tokens = pattern.findall(note)\n",
    "        # Join tokens back to form the filtered note\n",
    "        filtered_notes.append(' '.join(filtered_tokens))\n",
    "    return filtered_notes"
   ]
  },
  {
   "cell_type": "code",
   "execution_count": 8,
   "id": "1eaf9d8b",
   "metadata": {},
   "outputs": [],
   "source": [
    "def preprocess(suhi_df):\n",
    "    suhi_df.dropna(subset=['day_readmit'], inplace=True)\n",
    "    suhi_df.loc[suhi_df['day_readmit'] == 2, 'day_readmit'] = 0\n",
    "    suhi_df['day_readmit'] = suhi_df['day_readmit'].astype(int)                    \n",
    "    return suhi_df\n"
   ]
  },
  {
   "cell_type": "code",
   "execution_count": 9,
   "id": "a8c40eaa",
   "metadata": {},
   "outputs": [],
   "source": [
    "PATIENT_SUBSETS = [1, 2]\n",
    "FEATURE_SUBSETS = [2, 3]\n",
    "ENGAGED_VALUES = [0, 1]\n",
    "SEEDS =  range(30)\n",
    "SUMMARIZED_OPTIONS = [0, 1]\n",
    "VECTORIZERS = [1, 2]  # 1=TF-IDF, 2=BERT [1, 2] \n",
    "FILE_PATH = 'suhi_data.xlsx'\n",
    "OUTPUT_CSV = 'training_log.csv'\n",
    "TEST_SPLIT_RATIO = 0.2\n",
    "FEAT_SEL = False\n",
    "N_COMPONENT = 50\n",
    "\n",
    "BEST_PARAMS = {\n",
    "    \"RandomForestClassifier\": { \"n_estimators\": 200, \"max_depth\": 5, \"min_samples_split\": 20 },\n",
    "    \"AdaBoostClassifier\": { \"n_estimators\": 100, \"algorithm\": \"SAMME\", \"learning_rate\": 0.10 },\n",
    "    \"XGBClassifier\": {  \"n_estimators\": 10, \"max_depth\": 5, \"learning_rate\": 0.10 },\n",
    "}\n"
   ]
  },
  {
   "cell_type": "code",
   "execution_count": 10,
   "id": "d2a8ec1b",
   "metadata": {},
   "outputs": [],
   "source": [
    "def load_and_preprocess(file_path, patient_subset, engaged, summarized, feature_subset):\n",
    "    df = pd.read_excel(file_path)\n",
    "    df = df[df['engaged'] == engaged]\n",
    "\n",
    "    if patient_subset == 2:\n",
    "        df.dropna(subset=['COMBINED_NOTES'], inplace=True)\n",
    "\n",
    "    if summarized == 1 and feature_subset != 2:\n",
    "        df['FEW_SHORT_LLM_SUMMARY'] = df['FEW_SHORT_LLM_SUMMARY'].replace('nan', '')\n",
    "        df['COMBINED_NOTES'] = df['FEW_SHORT_LLM_SUMMARY']\n",
    "\n",
    "    df = preprocess(df)  \n",
    "    return df"
   ]
  },
  {
   "cell_type": "code",
   "execution_count": 11,
   "id": "66f64dc3",
   "metadata": {},
   "outputs": [],
   "source": [
    "# import torch\n",
    "# from transformers import BertModel, BertTokenizer\n",
    "\n",
    "# # Load BERT and tokenizer once\n",
    "# bert_model = BertModel.from_pretrained('bert-base-uncased')\n",
    "# tokenizer = BertTokenizer.from_pretrained('bert-base-uncased')\n",
    "# bert_model.eval()\n",
    "\n",
    "# # Pick device\n",
    "# device = torch.device(\"cuda\" if torch.cuda.is_available() else \"cpu\")\n",
    "# bert_model.to(device)\n",
    "\n",
    "# print(\"Using device:\", device)\n"
   ]
  },
  {
   "cell_type": "code",
   "execution_count": 12,
   "id": "306ae687",
   "metadata": {},
   "outputs": [
    {
     "name": "stdout",
     "output_type": "stream",
     "text": [
      "Using device: cpu\n"
     ]
    }
   ],
   "source": [
    "import torch\n",
    "from transformers import BertModel, BertTokenizer\n",
    "\n",
    "model_path = \"../local_uploads/bert-base-uncased\"\n",
    "# Load BERT and tokenizer once\n",
    "# bert_model = BertModel.from_pretrained('bert-base-uncased')\n",
    "# tokenizer = BertTokenizer.from_pretrained('bert-base-uncased')\n",
    "bert_model = BertModel.from_pretrained(model_path)\n",
    "tokenizer = BertTokenizer.from_pretrained(model_path)\n",
    "bert_model.eval()\n",
    "\n",
    "# Pick device\n",
    "device = torch.device(\"cuda\" if torch.cuda.is_available() else \"cpu\")\n",
    "bert_model.to(device)\n",
    "\n",
    "print(\"Using device:\", device)\n"
   ]
  },
  {
   "cell_type": "code",
   "execution_count": 13,
   "id": "899d1736",
   "metadata": {},
   "outputs": [],
   "source": [
    "def vectorize_text(df, feature_subset, vectorize_text, summarized, patient_subset):\n",
    "    min_df = 20 if summarized == 0 else 10\n",
    "    suhi_df = df\n",
    "    text_embeddings = []\n",
    "    \n",
    "    if feature_subset == 3 and vectorize_text == 1:\n",
    "        tfidf_vectorizer = TfidfVectorizer(min_df= min_df, )\n",
    "        suhi_df['COMBINED_NOTES'].fillna('', inplace=True)\n",
    "        suhi_df['COMBINED_NOTES'] = filter_tokens_in_notes(suhi_df['COMBINED_NOTES'])\n",
    "        text_embeddings = tfidf_vectorizer.fit_transform(suhi_df['COMBINED_NOTES'])\n",
    "\n",
    "    # If we include text features and vectorize them using BERT embeddings\n",
    "    if patient_subset == 2 and feature_subset == 3 and vectorize_text == 2:\n",
    "        # Load pre-trained BERT model\n",
    "        suhi_df['COMBINED_NOTES'] = filter_tokens_in_notes(suhi_df['COMBINED_NOTES'])\n",
    "\n",
    "       \n",
    "        # Tokenize and encode the text\n",
    "        for text in tqdm(suhi_df['COMBINED_NOTES'].tolist()):\n",
    "            tokens = tokenizer(text, padding='max_length', truncation=True, max_length=512, return_tensors='pt')\n",
    "            tokens = {key: value.to(device) for key, value in tokens.items()}\n",
    "            with torch.no_grad():\n",
    "                output = bert_model(**tokens)\n",
    "                embedding = output.pooler_output.cpu().squeeze().numpy()\n",
    "                text_embeddings.append(embedding)\n",
    "\n",
    "        # Convert to numpy after loop\n",
    "        text_embeddings = np.array(text_embeddings)\n",
    "\n",
    "        # ✅ Fit PCA once on the full matrix\n",
    "        if text_embeddings.shape[0] > 1:  # Ensure we have multiple samples\n",
    "            pca = PCA(n_components=min(N_COMPONENT, text_embeddings.shape[0]))\n",
    "            text_embeddings = pca.fit_transform(text_embeddings)\n",
    "        else:\n",
    "            print(\"Skipping PCA because only 1 row available\")\n",
    "\n",
    "    # Drop textual/object columns (except for combining them if we do text vectorizing)\n",
    "    text_columns = [col for col in suhi_df.columns if suhi_df[col].dtype == 'object']\n",
    "    suhi_df.drop(columns=text_columns, inplace=True, errors='ignore')\n",
    "\n",
    "    # Drop date columns\n",
    "    date_columns = [col for col in suhi_df.columns if suhi_df[col].dtype == 'datetime64[ns]']\n",
    "    suhi_df.drop(columns=date_columns, inplace=True, errors='ignore')\n",
    "\n",
    "    # Drop columns that contain 'nores'\n",
    "    nores_columns = [col for col in suhi_df.columns if 'nores' in col]\n",
    "    suhi_df.drop(columns=nores_columns, inplace=True, errors='ignore')\n",
    "\n",
    "    # If we have vectorized text, merge them in\n",
    "    if feature_subset == 3 and vectorize_text == 1:\n",
    "        COMBINED_NOTES_vectorized_df = pd.DataFrame(text_embeddings.toarray())\n",
    "        COMBINED_NOTES_vectorized_df.columns = tfidf_vectorizer.get_feature_names_out()\n",
    "        suhi_df.reset_index(drop=True, inplace=True)\n",
    "        suhi_w_vectors_df = pd.concat([suhi_df, COMBINED_NOTES_vectorized_df], axis=1)\n",
    "\n",
    "    elif feature_subset == 3 and vectorize_text == 2:\n",
    "        COMBINED_NOTES_vectorized_df = pd.DataFrame(text_embeddings)\n",
    "        suhi_df.reset_index(drop=True, inplace=True)\n",
    "        suhi_w_vectors_df = pd.concat([suhi_df, COMBINED_NOTES_vectorized_df], axis=1)\n",
    "    else:\n",
    "        suhi_w_vectors_df = suhi_df\n",
    "\n",
    "    suhi_w_vectors_df.columns = suhi_w_vectors_df.columns.astype(str)\n",
    "\n",
    "\n",
    "    # Fill NaN with 0\n",
    "    suhi_w_vectors_df.fillna(0, inplace=True)\n",
    "    return suhi_w_vectors_df"
   ]
  },
  {
   "cell_type": "code",
   "execution_count": 14,
   "id": "a803b5a7",
   "metadata": {},
   "outputs": [],
   "source": [
    "\n",
    "def train_and_evaluate_models(X, y, seed):\n",
    "    models = {\n",
    "        \"RandomForest\": RandomForestClassifier(random_state=seed, **BEST_PARAMS[\"RandomForestClassifier\"]),\n",
    "        \"AdaBoost\": AdaBoostClassifier(random_state=seed, **BEST_PARAMS[\"AdaBoostClassifier\"]),\n",
    "        \"XGBoost\": XGBClassifier(random_state=seed, **BEST_PARAMS[\"XGBClassifier\"]),\n",
    "    }\n",
    "\n",
    "    X_train, X_test, y_train, y_test = train_test_split(X, y, test_size=TEST_SPLIT_RATIO, random_state=seed)\n",
    "    results = {}\n",
    "\n",
    "    for name, model in models.items():\n",
    "        model.fit(X_train, y_train)\n",
    "        y_pred = model.predict(X_test)\n",
    "        y_proba = model.predict_proba(X_test)[:, 1]\n",
    "\n",
    "        results[name] = {\n",
    "            \"accuracy\": round(accuracy_score(y_test, y_pred), 4),\n",
    "            \"roc_auc\": round(roc_auc_score(y_test, y_proba), 4),\n",
    "            \"sensitivity\": round(recall_score(y_test, (y_proba >= 0.35).astype(int)), 4),\n",
    "            \"specificity\": round(recall_score(y_test, (y_proba >= 0.35).astype(int), pos_label=0), 4),\n",
    "        }\n",
    "    return results"
   ]
  },
  {
   "cell_type": "code",
   "execution_count": null,
   "id": "1ae475d2",
   "metadata": {},
   "outputs": [
    {
     "name": "stdout",
     "output_type": "stream",
     "text": [
      "Running: Patient=1, Feature=2, Engaged=0, Seed=0, Summarized=0, Vectorizer=1\n",
      "Running: Patient=1, Feature=2, Engaged=0, Seed=0, Summarized=0, Vectorizer=2\n",
      "Running: Patient=1, Feature=2, Engaged=0, Seed=0, Summarized=1, Vectorizer=1\n",
      "Running: Patient=1, Feature=2, Engaged=0, Seed=0, Summarized=1, Vectorizer=2\n",
      "Running: Patient=1, Feature=2, Engaged=0, Seed=1, Summarized=0, Vectorizer=1\n",
      "Running: Patient=1, Feature=2, Engaged=0, Seed=1, Summarized=0, Vectorizer=2\n",
      "Running: Patient=1, Feature=2, Engaged=0, Seed=1, Summarized=1, Vectorizer=1\n",
      "Running: Patient=1, Feature=2, Engaged=0, Seed=1, Summarized=1, Vectorizer=2\n",
      "Running: Patient=1, Feature=2, Engaged=0, Seed=2, Summarized=0, Vectorizer=1\n",
      "Running: Patient=1, Feature=2, Engaged=0, Seed=2, Summarized=0, Vectorizer=2\n",
      "Running: Patient=1, Feature=2, Engaged=0, Seed=2, Summarized=1, Vectorizer=1\n",
      "Running: Patient=1, Feature=2, Engaged=0, Seed=2, Summarized=1, Vectorizer=2\n",
      "Running: Patient=1, Feature=2, Engaged=0, Seed=3, Summarized=0, Vectorizer=1\n",
      "Running: Patient=1, Feature=2, Engaged=0, Seed=3, Summarized=0, Vectorizer=2\n",
      "Running: Patient=1, Feature=2, Engaged=0, Seed=3, Summarized=1, Vectorizer=1\n",
      "Running: Patient=1, Feature=2, Engaged=0, Seed=3, Summarized=1, Vectorizer=2\n",
      "Running: Patient=1, Feature=2, Engaged=0, Seed=4, Summarized=0, Vectorizer=1\n",
      "Running: Patient=1, Feature=2, Engaged=0, Seed=4, Summarized=0, Vectorizer=2\n",
      "Running: Patient=1, Feature=2, Engaged=0, Seed=4, Summarized=1, Vectorizer=1\n",
      "Running: Patient=1, Feature=2, Engaged=0, Seed=4, Summarized=1, Vectorizer=2\n",
      "Running: Patient=1, Feature=2, Engaged=0, Seed=5, Summarized=0, Vectorizer=1\n",
      "Running: Patient=1, Feature=2, Engaged=0, Seed=5, Summarized=0, Vectorizer=2\n",
      "Running: Patient=1, Feature=2, Engaged=0, Seed=5, Summarized=1, Vectorizer=1\n",
      "Running: Patient=1, Feature=2, Engaged=0, Seed=5, Summarized=1, Vectorizer=2\n",
      "Running: Patient=1, Feature=2, Engaged=0, Seed=6, Summarized=0, Vectorizer=1\n",
      "Running: Patient=1, Feature=2, Engaged=0, Seed=6, Summarized=0, Vectorizer=2\n",
      "Running: Patient=1, Feature=2, Engaged=0, Seed=6, Summarized=1, Vectorizer=1\n",
      "Running: Patient=1, Feature=2, Engaged=0, Seed=6, Summarized=1, Vectorizer=2\n",
      "Running: Patient=1, Feature=2, Engaged=0, Seed=7, Summarized=0, Vectorizer=1\n",
      "Running: Patient=1, Feature=2, Engaged=0, Seed=7, Summarized=0, Vectorizer=2\n",
      "Running: Patient=1, Feature=2, Engaged=0, Seed=7, Summarized=1, Vectorizer=1\n",
      "Running: Patient=1, Feature=2, Engaged=0, Seed=7, Summarized=1, Vectorizer=2\n",
      "Running: Patient=1, Feature=2, Engaged=0, Seed=8, Summarized=0, Vectorizer=1\n",
      "Running: Patient=1, Feature=2, Engaged=0, Seed=8, Summarized=0, Vectorizer=2\n",
      "Running: Patient=1, Feature=2, Engaged=0, Seed=8, Summarized=1, Vectorizer=1\n",
      "Running: Patient=1, Feature=2, Engaged=0, Seed=8, Summarized=1, Vectorizer=2\n",
      "Running: Patient=1, Feature=2, Engaged=0, Seed=9, Summarized=0, Vectorizer=1\n",
      "Running: Patient=1, Feature=2, Engaged=0, Seed=9, Summarized=0, Vectorizer=2\n",
      "Running: Patient=1, Feature=2, Engaged=0, Seed=9, Summarized=1, Vectorizer=1\n",
      "Running: Patient=1, Feature=2, Engaged=0, Seed=9, Summarized=1, Vectorizer=2\n",
      "Running: Patient=1, Feature=2, Engaged=0, Seed=10, Summarized=0, Vectorizer=1\n",
      "Running: Patient=1, Feature=2, Engaged=0, Seed=10, Summarized=0, Vectorizer=2\n",
      "Running: Patient=1, Feature=2, Engaged=0, Seed=10, Summarized=1, Vectorizer=1\n",
      "Running: Patient=1, Feature=2, Engaged=0, Seed=10, Summarized=1, Vectorizer=2\n",
      "Running: Patient=1, Feature=2, Engaged=0, Seed=11, Summarized=0, Vectorizer=1\n",
      "Running: Patient=1, Feature=2, Engaged=0, Seed=11, Summarized=0, Vectorizer=2\n",
      "Running: Patient=1, Feature=2, Engaged=0, Seed=11, Summarized=1, Vectorizer=1\n",
      "Running: Patient=1, Feature=2, Engaged=0, Seed=11, Summarized=1, Vectorizer=2\n",
      "Running: Patient=1, Feature=2, Engaged=0, Seed=12, Summarized=0, Vectorizer=1\n",
      "Running: Patient=1, Feature=2, Engaged=0, Seed=12, Summarized=0, Vectorizer=2\n",
      "Running: Patient=1, Feature=2, Engaged=0, Seed=12, Summarized=1, Vectorizer=1\n",
      "Running: Patient=1, Feature=2, Engaged=0, Seed=12, Summarized=1, Vectorizer=2\n",
      "Running: Patient=1, Feature=2, Engaged=0, Seed=13, Summarized=0, Vectorizer=1\n",
      "Running: Patient=1, Feature=2, Engaged=0, Seed=13, Summarized=0, Vectorizer=2\n",
      "Running: Patient=1, Feature=2, Engaged=0, Seed=13, Summarized=1, Vectorizer=1\n",
      "Running: Patient=1, Feature=2, Engaged=0, Seed=13, Summarized=1, Vectorizer=2\n",
      "Running: Patient=1, Feature=2, Engaged=0, Seed=14, Summarized=0, Vectorizer=1\n",
      "Running: Patient=1, Feature=2, Engaged=0, Seed=14, Summarized=0, Vectorizer=2\n",
      "Running: Patient=1, Feature=2, Engaged=0, Seed=14, Summarized=1, Vectorizer=1\n",
      "Running: Patient=1, Feature=2, Engaged=0, Seed=14, Summarized=1, Vectorizer=2\n",
      "Running: Patient=1, Feature=2, Engaged=0, Seed=15, Summarized=0, Vectorizer=1\n",
      "Running: Patient=1, Feature=2, Engaged=0, Seed=15, Summarized=0, Vectorizer=2\n",
      "Running: Patient=1, Feature=2, Engaged=0, Seed=15, Summarized=1, Vectorizer=1\n",
      "Running: Patient=1, Feature=2, Engaged=0, Seed=15, Summarized=1, Vectorizer=2\n",
      "Running: Patient=1, Feature=2, Engaged=0, Seed=16, Summarized=0, Vectorizer=1\n",
      "Running: Patient=1, Feature=2, Engaged=0, Seed=16, Summarized=0, Vectorizer=2\n",
      "Running: Patient=1, Feature=2, Engaged=0, Seed=16, Summarized=1, Vectorizer=1\n",
      "Running: Patient=1, Feature=2, Engaged=0, Seed=16, Summarized=1, Vectorizer=2\n",
      "Running: Patient=1, Feature=2, Engaged=0, Seed=17, Summarized=0, Vectorizer=1\n",
      "Running: Patient=1, Feature=2, Engaged=0, Seed=17, Summarized=0, Vectorizer=2\n",
      "Running: Patient=1, Feature=2, Engaged=0, Seed=17, Summarized=1, Vectorizer=1\n",
      "Running: Patient=1, Feature=2, Engaged=0, Seed=17, Summarized=1, Vectorizer=2\n",
      "Running: Patient=1, Feature=2, Engaged=0, Seed=18, Summarized=0, Vectorizer=1\n",
      "Running: Patient=1, Feature=2, Engaged=0, Seed=18, Summarized=0, Vectorizer=2\n",
      "Running: Patient=1, Feature=2, Engaged=0, Seed=18, Summarized=1, Vectorizer=1\n",
      "Running: Patient=1, Feature=2, Engaged=0, Seed=18, Summarized=1, Vectorizer=2\n",
      "Running: Patient=1, Feature=2, Engaged=0, Seed=19, Summarized=0, Vectorizer=1\n",
      "Running: Patient=1, Feature=2, Engaged=0, Seed=19, Summarized=0, Vectorizer=2\n",
      "Running: Patient=1, Feature=2, Engaged=0, Seed=19, Summarized=1, Vectorizer=1\n",
      "Running: Patient=1, Feature=2, Engaged=0, Seed=19, Summarized=1, Vectorizer=2\n",
      "Running: Patient=1, Feature=2, Engaged=0, Seed=20, Summarized=0, Vectorizer=1\n",
      "Running: Patient=1, Feature=2, Engaged=0, Seed=20, Summarized=0, Vectorizer=2\n",
      "Running: Patient=1, Feature=2, Engaged=0, Seed=20, Summarized=1, Vectorizer=1\n",
      "Running: Patient=1, Feature=2, Engaged=0, Seed=20, Summarized=1, Vectorizer=2\n",
      "Running: Patient=1, Feature=2, Engaged=0, Seed=21, Summarized=0, Vectorizer=1\n",
      "Running: Patient=1, Feature=2, Engaged=0, Seed=21, Summarized=0, Vectorizer=2\n",
      "Running: Patient=1, Feature=2, Engaged=0, Seed=21, Summarized=1, Vectorizer=1\n",
      "Running: Patient=1, Feature=2, Engaged=0, Seed=21, Summarized=1, Vectorizer=2\n",
      "Running: Patient=1, Feature=2, Engaged=0, Seed=22, Summarized=0, Vectorizer=1\n",
      "Running: Patient=1, Feature=2, Engaged=0, Seed=22, Summarized=0, Vectorizer=2\n",
      "Running: Patient=1, Feature=2, Engaged=0, Seed=22, Summarized=1, Vectorizer=1\n",
      "Running: Patient=1, Feature=2, Engaged=0, Seed=22, Summarized=1, Vectorizer=2\n",
      "Running: Patient=1, Feature=2, Engaged=0, Seed=23, Summarized=0, Vectorizer=1\n",
      "Running: Patient=1, Feature=2, Engaged=0, Seed=23, Summarized=0, Vectorizer=2\n",
      "Running: Patient=1, Feature=2, Engaged=0, Seed=23, Summarized=1, Vectorizer=1\n",
      "Running: Patient=1, Feature=2, Engaged=0, Seed=23, Summarized=1, Vectorizer=2\n",
      "Running: Patient=1, Feature=2, Engaged=0, Seed=24, Summarized=0, Vectorizer=1\n",
      "Running: Patient=1, Feature=2, Engaged=0, Seed=24, Summarized=0, Vectorizer=2\n",
      "Running: Patient=1, Feature=2, Engaged=0, Seed=24, Summarized=1, Vectorizer=1\n",
      "Running: Patient=1, Feature=2, Engaged=0, Seed=24, Summarized=1, Vectorizer=2\n",
      "Running: Patient=1, Feature=2, Engaged=0, Seed=25, Summarized=0, Vectorizer=1\n",
      "Running: Patient=1, Feature=2, Engaged=0, Seed=25, Summarized=0, Vectorizer=2\n",
      "Running: Patient=1, Feature=2, Engaged=0, Seed=25, Summarized=1, Vectorizer=1\n",
      "Running: Patient=1, Feature=2, Engaged=0, Seed=25, Summarized=1, Vectorizer=2\n",
      "Running: Patient=1, Feature=2, Engaged=0, Seed=26, Summarized=0, Vectorizer=1\n",
      "Running: Patient=1, Feature=2, Engaged=0, Seed=26, Summarized=0, Vectorizer=2\n",
      "Running: Patient=1, Feature=2, Engaged=0, Seed=26, Summarized=1, Vectorizer=1\n",
      "Running: Patient=1, Feature=2, Engaged=0, Seed=26, Summarized=1, Vectorizer=2\n",
      "Running: Patient=1, Feature=2, Engaged=0, Seed=27, Summarized=0, Vectorizer=1\n",
      "Running: Patient=1, Feature=2, Engaged=0, Seed=27, Summarized=0, Vectorizer=2\n",
      "Running: Patient=1, Feature=2, Engaged=0, Seed=27, Summarized=1, Vectorizer=1\n",
      "Running: Patient=1, Feature=2, Engaged=0, Seed=27, Summarized=1, Vectorizer=2\n",
      "Running: Patient=1, Feature=2, Engaged=0, Seed=28, Summarized=0, Vectorizer=1\n",
      "Running: Patient=1, Feature=2, Engaged=0, Seed=28, Summarized=0, Vectorizer=2\n",
      "Running: Patient=1, Feature=2, Engaged=0, Seed=28, Summarized=1, Vectorizer=1\n",
      "Running: Patient=1, Feature=2, Engaged=0, Seed=28, Summarized=1, Vectorizer=2\n",
      "Running: Patient=1, Feature=2, Engaged=0, Seed=29, Summarized=0, Vectorizer=1\n",
      "Running: Patient=1, Feature=2, Engaged=0, Seed=29, Summarized=0, Vectorizer=2\n",
      "Running: Patient=1, Feature=2, Engaged=0, Seed=29, Summarized=1, Vectorizer=1\n",
      "Running: Patient=1, Feature=2, Engaged=0, Seed=29, Summarized=1, Vectorizer=2\n",
      "Running: Patient=1, Feature=2, Engaged=1, Seed=0, Summarized=0, Vectorizer=1\n",
      "Running: Patient=1, Feature=2, Engaged=1, Seed=0, Summarized=0, Vectorizer=2\n",
      "Running: Patient=1, Feature=2, Engaged=1, Seed=0, Summarized=1, Vectorizer=1\n",
      "Running: Patient=1, Feature=2, Engaged=1, Seed=0, Summarized=1, Vectorizer=2\n",
      "Running: Patient=1, Feature=2, Engaged=1, Seed=1, Summarized=0, Vectorizer=1\n",
      "Running: Patient=1, Feature=2, Engaged=1, Seed=1, Summarized=0, Vectorizer=2\n",
      "Running: Patient=1, Feature=2, Engaged=1, Seed=1, Summarized=1, Vectorizer=1\n",
      "Running: Patient=1, Feature=2, Engaged=1, Seed=1, Summarized=1, Vectorizer=2\n",
      "Running: Patient=1, Feature=2, Engaged=1, Seed=2, Summarized=0, Vectorizer=1\n",
      "Running: Patient=1, Feature=2, Engaged=1, Seed=2, Summarized=0, Vectorizer=2\n",
      "Running: Patient=1, Feature=2, Engaged=1, Seed=2, Summarized=1, Vectorizer=1\n",
      "Running: Patient=1, Feature=2, Engaged=1, Seed=2, Summarized=1, Vectorizer=2\n",
      "Running: Patient=1, Feature=2, Engaged=1, Seed=3, Summarized=0, Vectorizer=1\n",
      "Running: Patient=1, Feature=2, Engaged=1, Seed=3, Summarized=0, Vectorizer=2\n",
      "Running: Patient=1, Feature=2, Engaged=1, Seed=3, Summarized=1, Vectorizer=1\n",
      "Running: Patient=1, Feature=2, Engaged=1, Seed=3, Summarized=1, Vectorizer=2\n",
      "Running: Patient=1, Feature=2, Engaged=1, Seed=4, Summarized=0, Vectorizer=1\n",
      "Running: Patient=1, Feature=2, Engaged=1, Seed=4, Summarized=0, Vectorizer=2\n",
      "Running: Patient=1, Feature=2, Engaged=1, Seed=4, Summarized=1, Vectorizer=1\n",
      "Running: Patient=1, Feature=2, Engaged=1, Seed=4, Summarized=1, Vectorizer=2\n",
      "Running: Patient=1, Feature=2, Engaged=1, Seed=5, Summarized=0, Vectorizer=1\n",
      "Running: Patient=1, Feature=2, Engaged=1, Seed=5, Summarized=0, Vectorizer=2\n",
      "Running: Patient=1, Feature=2, Engaged=1, Seed=5, Summarized=1, Vectorizer=1\n",
      "Running: Patient=1, Feature=2, Engaged=1, Seed=5, Summarized=1, Vectorizer=2\n",
      "Running: Patient=1, Feature=2, Engaged=1, Seed=6, Summarized=0, Vectorizer=1\n",
      "Running: Patient=1, Feature=2, Engaged=1, Seed=6, Summarized=0, Vectorizer=2\n",
      "Running: Patient=1, Feature=2, Engaged=1, Seed=6, Summarized=1, Vectorizer=1\n",
      "Running: Patient=1, Feature=2, Engaged=1, Seed=6, Summarized=1, Vectorizer=2\n",
      "Running: Patient=1, Feature=2, Engaged=1, Seed=7, Summarized=0, Vectorizer=1\n",
      "Running: Patient=1, Feature=2, Engaged=1, Seed=7, Summarized=0, Vectorizer=2\n",
      "Running: Patient=1, Feature=2, Engaged=1, Seed=7, Summarized=1, Vectorizer=1\n",
      "Running: Patient=1, Feature=2, Engaged=1, Seed=7, Summarized=1, Vectorizer=2\n",
      "Running: Patient=1, Feature=2, Engaged=1, Seed=8, Summarized=0, Vectorizer=1\n",
      "Running: Patient=1, Feature=2, Engaged=1, Seed=8, Summarized=0, Vectorizer=2\n",
      "Running: Patient=1, Feature=2, Engaged=1, Seed=8, Summarized=1, Vectorizer=1\n",
      "Running: Patient=1, Feature=2, Engaged=1, Seed=8, Summarized=1, Vectorizer=2\n",
      "Running: Patient=1, Feature=2, Engaged=1, Seed=9, Summarized=0, Vectorizer=1\n",
      "Running: Patient=1, Feature=2, Engaged=1, Seed=9, Summarized=0, Vectorizer=2\n",
      "Running: Patient=1, Feature=2, Engaged=1, Seed=9, Summarized=1, Vectorizer=1\n",
      "Running: Patient=1, Feature=2, Engaged=1, Seed=9, Summarized=1, Vectorizer=2\n",
      "Running: Patient=1, Feature=2, Engaged=1, Seed=10, Summarized=0, Vectorizer=1\n",
      "Running: Patient=1, Feature=2, Engaged=1, Seed=10, Summarized=0, Vectorizer=2\n",
      "Running: Patient=1, Feature=2, Engaged=1, Seed=10, Summarized=1, Vectorizer=1\n",
      "Running: Patient=1, Feature=2, Engaged=1, Seed=10, Summarized=1, Vectorizer=2\n",
      "Running: Patient=1, Feature=2, Engaged=1, Seed=11, Summarized=0, Vectorizer=1\n",
      "Running: Patient=1, Feature=2, Engaged=1, Seed=11, Summarized=0, Vectorizer=2\n",
      "Running: Patient=1, Feature=2, Engaged=1, Seed=11, Summarized=1, Vectorizer=1\n",
      "Running: Patient=1, Feature=2, Engaged=1, Seed=11, Summarized=1, Vectorizer=2\n",
      "Running: Patient=1, Feature=2, Engaged=1, Seed=12, Summarized=0, Vectorizer=1\n",
      "Running: Patient=1, Feature=2, Engaged=1, Seed=12, Summarized=0, Vectorizer=2\n",
      "Running: Patient=1, Feature=2, Engaged=1, Seed=12, Summarized=1, Vectorizer=1\n",
      "Running: Patient=1, Feature=2, Engaged=1, Seed=12, Summarized=1, Vectorizer=2\n",
      "Running: Patient=1, Feature=2, Engaged=1, Seed=13, Summarized=0, Vectorizer=1\n",
      "Running: Patient=1, Feature=2, Engaged=1, Seed=13, Summarized=0, Vectorizer=2\n",
      "Running: Patient=1, Feature=2, Engaged=1, Seed=13, Summarized=1, Vectorizer=1\n",
      "Running: Patient=1, Feature=2, Engaged=1, Seed=13, Summarized=1, Vectorizer=2\n",
      "Running: Patient=1, Feature=2, Engaged=1, Seed=14, Summarized=0, Vectorizer=1\n",
      "Running: Patient=1, Feature=2, Engaged=1, Seed=14, Summarized=0, Vectorizer=2\n",
      "Running: Patient=1, Feature=2, Engaged=1, Seed=14, Summarized=1, Vectorizer=1\n",
      "Running: Patient=1, Feature=2, Engaged=1, Seed=14, Summarized=1, Vectorizer=2\n",
      "Running: Patient=1, Feature=2, Engaged=1, Seed=15, Summarized=0, Vectorizer=1\n",
      "Running: Patient=1, Feature=2, Engaged=1, Seed=15, Summarized=0, Vectorizer=2\n",
      "Running: Patient=1, Feature=2, Engaged=1, Seed=15, Summarized=1, Vectorizer=1\n",
      "Running: Patient=1, Feature=2, Engaged=1, Seed=15, Summarized=1, Vectorizer=2\n",
      "Running: Patient=1, Feature=2, Engaged=1, Seed=16, Summarized=0, Vectorizer=1\n",
      "Running: Patient=1, Feature=2, Engaged=1, Seed=16, Summarized=0, Vectorizer=2\n",
      "Running: Patient=1, Feature=2, Engaged=1, Seed=16, Summarized=1, Vectorizer=1\n",
      "Running: Patient=1, Feature=2, Engaged=1, Seed=16, Summarized=1, Vectorizer=2\n",
      "Running: Patient=1, Feature=2, Engaged=1, Seed=17, Summarized=0, Vectorizer=1\n",
      "Running: Patient=1, Feature=2, Engaged=1, Seed=17, Summarized=0, Vectorizer=2\n",
      "Running: Patient=1, Feature=2, Engaged=1, Seed=17, Summarized=1, Vectorizer=1\n",
      "Running: Patient=1, Feature=2, Engaged=1, Seed=17, Summarized=1, Vectorizer=2\n",
      "Running: Patient=1, Feature=2, Engaged=1, Seed=18, Summarized=0, Vectorizer=1\n",
      "Running: Patient=1, Feature=2, Engaged=1, Seed=18, Summarized=0, Vectorizer=2\n",
      "Running: Patient=1, Feature=2, Engaged=1, Seed=18, Summarized=1, Vectorizer=1\n",
      "Running: Patient=1, Feature=2, Engaged=1, Seed=18, Summarized=1, Vectorizer=2\n",
      "Running: Patient=1, Feature=2, Engaged=1, Seed=19, Summarized=0, Vectorizer=1\n",
      "Running: Patient=1, Feature=2, Engaged=1, Seed=19, Summarized=0, Vectorizer=2\n",
      "Running: Patient=1, Feature=2, Engaged=1, Seed=19, Summarized=1, Vectorizer=1\n",
      "Running: Patient=1, Feature=2, Engaged=1, Seed=19, Summarized=1, Vectorizer=2\n",
      "Running: Patient=1, Feature=2, Engaged=1, Seed=20, Summarized=0, Vectorizer=1\n",
      "Running: Patient=1, Feature=2, Engaged=1, Seed=20, Summarized=0, Vectorizer=2\n",
      "Running: Patient=1, Feature=2, Engaged=1, Seed=20, Summarized=1, Vectorizer=1\n",
      "Running: Patient=1, Feature=2, Engaged=1, Seed=20, Summarized=1, Vectorizer=2\n",
      "Running: Patient=1, Feature=2, Engaged=1, Seed=21, Summarized=0, Vectorizer=1\n",
      "Running: Patient=1, Feature=2, Engaged=1, Seed=21, Summarized=0, Vectorizer=2\n",
      "Running: Patient=1, Feature=2, Engaged=1, Seed=21, Summarized=1, Vectorizer=1\n",
      "Running: Patient=1, Feature=2, Engaged=1, Seed=21, Summarized=1, Vectorizer=2\n",
      "Running: Patient=1, Feature=2, Engaged=1, Seed=22, Summarized=0, Vectorizer=1\n",
      "Running: Patient=1, Feature=2, Engaged=1, Seed=22, Summarized=0, Vectorizer=2\n",
      "Running: Patient=1, Feature=2, Engaged=1, Seed=22, Summarized=1, Vectorizer=1\n",
      "Running: Patient=1, Feature=2, Engaged=1, Seed=22, Summarized=1, Vectorizer=2\n",
      "Running: Patient=1, Feature=2, Engaged=1, Seed=23, Summarized=0, Vectorizer=1\n",
      "Running: Patient=1, Feature=2, Engaged=1, Seed=23, Summarized=0, Vectorizer=2\n",
      "Running: Patient=1, Feature=2, Engaged=1, Seed=23, Summarized=1, Vectorizer=1\n",
      "Running: Patient=1, Feature=2, Engaged=1, Seed=23, Summarized=1, Vectorizer=2\n",
      "Running: Patient=1, Feature=2, Engaged=1, Seed=24, Summarized=0, Vectorizer=1\n",
      "Running: Patient=1, Feature=2, Engaged=1, Seed=24, Summarized=0, Vectorizer=2\n",
      "Running: Patient=1, Feature=2, Engaged=1, Seed=24, Summarized=1, Vectorizer=1\n",
      "Running: Patient=1, Feature=2, Engaged=1, Seed=24, Summarized=1, Vectorizer=2\n",
      "Running: Patient=1, Feature=2, Engaged=1, Seed=25, Summarized=0, Vectorizer=1\n",
      "Running: Patient=1, Feature=2, Engaged=1, Seed=25, Summarized=0, Vectorizer=2\n",
      "Running: Patient=1, Feature=2, Engaged=1, Seed=25, Summarized=1, Vectorizer=1\n",
      "Running: Patient=1, Feature=2, Engaged=1, Seed=25, Summarized=1, Vectorizer=2\n",
      "Running: Patient=1, Feature=2, Engaged=1, Seed=26, Summarized=0, Vectorizer=1\n",
      "Running: Patient=1, Feature=2, Engaged=1, Seed=26, Summarized=0, Vectorizer=2\n",
      "Running: Patient=1, Feature=2, Engaged=1, Seed=26, Summarized=1, Vectorizer=1\n",
      "Running: Patient=1, Feature=2, Engaged=1, Seed=26, Summarized=1, Vectorizer=2\n",
      "Running: Patient=1, Feature=2, Engaged=1, Seed=27, Summarized=0, Vectorizer=1\n",
      "Running: Patient=1, Feature=2, Engaged=1, Seed=27, Summarized=0, Vectorizer=2\n",
      "Running: Patient=1, Feature=2, Engaged=1, Seed=27, Summarized=1, Vectorizer=1\n",
      "Running: Patient=1, Feature=2, Engaged=1, Seed=27, Summarized=1, Vectorizer=2\n",
      "Running: Patient=1, Feature=2, Engaged=1, Seed=28, Summarized=0, Vectorizer=1\n",
      "Running: Patient=1, Feature=2, Engaged=1, Seed=28, Summarized=0, Vectorizer=2\n",
      "Running: Patient=1, Feature=2, Engaged=1, Seed=28, Summarized=1, Vectorizer=1\n",
      "Running: Patient=1, Feature=2, Engaged=1, Seed=28, Summarized=1, Vectorizer=2\n",
      "Running: Patient=1, Feature=2, Engaged=1, Seed=29, Summarized=0, Vectorizer=1\n",
      "Running: Patient=1, Feature=2, Engaged=1, Seed=29, Summarized=0, Vectorizer=2\n",
      "Running: Patient=1, Feature=2, Engaged=1, Seed=29, Summarized=1, Vectorizer=1\n",
      "Running: Patient=1, Feature=2, Engaged=1, Seed=29, Summarized=1, Vectorizer=2\n",
      "Running: Patient=1, Feature=3, Engaged=0, Seed=0, Summarized=0, Vectorizer=1\n",
      "Running: Patient=1, Feature=3, Engaged=0, Seed=0, Summarized=0, Vectorizer=2\n",
      "Running: Patient=1, Feature=3, Engaged=0, Seed=0, Summarized=1, Vectorizer=1\n",
      "Running: Patient=1, Feature=3, Engaged=0, Seed=0, Summarized=1, Vectorizer=2\n",
      "Running: Patient=1, Feature=3, Engaged=0, Seed=1, Summarized=0, Vectorizer=1\n",
      "Running: Patient=1, Feature=3, Engaged=0, Seed=1, Summarized=0, Vectorizer=2\n",
      "Running: Patient=1, Feature=3, Engaged=0, Seed=1, Summarized=1, Vectorizer=1\n",
      "Running: Patient=1, Feature=3, Engaged=0, Seed=1, Summarized=1, Vectorizer=2\n",
      "Running: Patient=1, Feature=3, Engaged=0, Seed=2, Summarized=0, Vectorizer=1\n",
      "Running: Patient=1, Feature=3, Engaged=0, Seed=2, Summarized=0, Vectorizer=2\n",
      "Running: Patient=1, Feature=3, Engaged=0, Seed=2, Summarized=1, Vectorizer=1\n",
      "Running: Patient=1, Feature=3, Engaged=0, Seed=2, Summarized=1, Vectorizer=2\n",
      "Running: Patient=1, Feature=3, Engaged=0, Seed=3, Summarized=0, Vectorizer=1\n",
      "Running: Patient=1, Feature=3, Engaged=0, Seed=3, Summarized=0, Vectorizer=2\n",
      "Running: Patient=1, Feature=3, Engaged=0, Seed=3, Summarized=1, Vectorizer=1\n",
      "Running: Patient=1, Feature=3, Engaged=0, Seed=3, Summarized=1, Vectorizer=2\n",
      "Running: Patient=1, Feature=3, Engaged=0, Seed=4, Summarized=0, Vectorizer=1\n",
      "Running: Patient=1, Feature=3, Engaged=0, Seed=4, Summarized=0, Vectorizer=2\n",
      "Running: Patient=1, Feature=3, Engaged=0, Seed=4, Summarized=1, Vectorizer=1\n",
      "Running: Patient=1, Feature=3, Engaged=0, Seed=4, Summarized=1, Vectorizer=2\n",
      "Running: Patient=1, Feature=3, Engaged=0, Seed=5, Summarized=0, Vectorizer=1\n",
      "Running: Patient=1, Feature=3, Engaged=0, Seed=5, Summarized=0, Vectorizer=2\n",
      "Running: Patient=1, Feature=3, Engaged=0, Seed=5, Summarized=1, Vectorizer=1\n",
      "Running: Patient=1, Feature=3, Engaged=0, Seed=5, Summarized=1, Vectorizer=2\n",
      "Running: Patient=1, Feature=3, Engaged=0, Seed=6, Summarized=0, Vectorizer=1\n",
      "Running: Patient=1, Feature=3, Engaged=0, Seed=6, Summarized=0, Vectorizer=2\n",
      "Running: Patient=1, Feature=3, Engaged=0, Seed=6, Summarized=1, Vectorizer=1\n",
      "Running: Patient=1, Feature=3, Engaged=0, Seed=6, Summarized=1, Vectorizer=2\n",
      "Running: Patient=1, Feature=3, Engaged=0, Seed=7, Summarized=0, Vectorizer=1\n",
      "Running: Patient=1, Feature=3, Engaged=0, Seed=7, Summarized=0, Vectorizer=2\n",
      "Running: Patient=1, Feature=3, Engaged=0, Seed=7, Summarized=1, Vectorizer=1\n",
      "Running: Patient=1, Feature=3, Engaged=0, Seed=7, Summarized=1, Vectorizer=2\n",
      "Running: Patient=1, Feature=3, Engaged=0, Seed=8, Summarized=0, Vectorizer=1\n",
      "Running: Patient=1, Feature=3, Engaged=0, Seed=8, Summarized=0, Vectorizer=2\n",
      "Running: Patient=1, Feature=3, Engaged=0, Seed=8, Summarized=1, Vectorizer=1\n",
      "Running: Patient=1, Feature=3, Engaged=0, Seed=8, Summarized=1, Vectorizer=2\n",
      "Running: Patient=1, Feature=3, Engaged=0, Seed=9, Summarized=0, Vectorizer=1\n",
      "Running: Patient=1, Feature=3, Engaged=0, Seed=9, Summarized=0, Vectorizer=2\n",
      "Running: Patient=1, Feature=3, Engaged=0, Seed=9, Summarized=1, Vectorizer=1\n",
      "Running: Patient=1, Feature=3, Engaged=0, Seed=9, Summarized=1, Vectorizer=2\n",
      "Running: Patient=1, Feature=3, Engaged=0, Seed=10, Summarized=0, Vectorizer=1\n",
      "Running: Patient=1, Feature=3, Engaged=0, Seed=10, Summarized=0, Vectorizer=2\n",
      "Running: Patient=1, Feature=3, Engaged=0, Seed=10, Summarized=1, Vectorizer=1\n",
      "Running: Patient=1, Feature=3, Engaged=0, Seed=10, Summarized=1, Vectorizer=2\n",
      "Running: Patient=1, Feature=3, Engaged=0, Seed=11, Summarized=0, Vectorizer=1\n",
      "Running: Patient=1, Feature=3, Engaged=0, Seed=11, Summarized=0, Vectorizer=2\n",
      "Running: Patient=1, Feature=3, Engaged=0, Seed=11, Summarized=1, Vectorizer=1\n",
      "Running: Patient=1, Feature=3, Engaged=0, Seed=11, Summarized=1, Vectorizer=2\n",
      "Running: Patient=1, Feature=3, Engaged=0, Seed=12, Summarized=0, Vectorizer=1\n",
      "Running: Patient=1, Feature=3, Engaged=0, Seed=12, Summarized=0, Vectorizer=2\n",
      "Running: Patient=1, Feature=3, Engaged=0, Seed=12, Summarized=1, Vectorizer=1\n",
      "Running: Patient=1, Feature=3, Engaged=0, Seed=12, Summarized=1, Vectorizer=2\n",
      "Running: Patient=1, Feature=3, Engaged=0, Seed=13, Summarized=0, Vectorizer=1\n",
      "Running: Patient=1, Feature=3, Engaged=0, Seed=13, Summarized=0, Vectorizer=2\n",
      "Running: Patient=1, Feature=3, Engaged=0, Seed=13, Summarized=1, Vectorizer=1\n",
      "Running: Patient=1, Feature=3, Engaged=0, Seed=13, Summarized=1, Vectorizer=2\n",
      "Running: Patient=1, Feature=3, Engaged=0, Seed=14, Summarized=0, Vectorizer=1\n",
      "Running: Patient=1, Feature=3, Engaged=0, Seed=14, Summarized=0, Vectorizer=2\n",
      "Running: Patient=1, Feature=3, Engaged=0, Seed=14, Summarized=1, Vectorizer=1\n",
      "Running: Patient=1, Feature=3, Engaged=0, Seed=14, Summarized=1, Vectorizer=2\n",
      "Running: Patient=1, Feature=3, Engaged=0, Seed=15, Summarized=0, Vectorizer=1\n",
      "Running: Patient=1, Feature=3, Engaged=0, Seed=15, Summarized=0, Vectorizer=2\n",
      "Running: Patient=1, Feature=3, Engaged=0, Seed=15, Summarized=1, Vectorizer=1\n",
      "Running: Patient=1, Feature=3, Engaged=0, Seed=15, Summarized=1, Vectorizer=2\n",
      "Running: Patient=1, Feature=3, Engaged=0, Seed=16, Summarized=0, Vectorizer=1\n",
      "Running: Patient=1, Feature=3, Engaged=0, Seed=16, Summarized=0, Vectorizer=2\n",
      "Running: Patient=1, Feature=3, Engaged=0, Seed=16, Summarized=1, Vectorizer=1\n",
      "Running: Patient=1, Feature=3, Engaged=0, Seed=16, Summarized=1, Vectorizer=2\n",
      "Running: Patient=1, Feature=3, Engaged=0, Seed=17, Summarized=0, Vectorizer=1\n",
      "Running: Patient=1, Feature=3, Engaged=0, Seed=17, Summarized=0, Vectorizer=2\n",
      "Running: Patient=1, Feature=3, Engaged=0, Seed=17, Summarized=1, Vectorizer=1\n",
      "Running: Patient=1, Feature=3, Engaged=0, Seed=17, Summarized=1, Vectorizer=2\n",
      "Running: Patient=1, Feature=3, Engaged=0, Seed=18, Summarized=0, Vectorizer=1\n",
      "Running: Patient=1, Feature=3, Engaged=0, Seed=18, Summarized=0, Vectorizer=2\n",
      "Running: Patient=1, Feature=3, Engaged=0, Seed=18, Summarized=1, Vectorizer=1\n",
      "Running: Patient=1, Feature=3, Engaged=0, Seed=18, Summarized=1, Vectorizer=2\n",
      "Running: Patient=1, Feature=3, Engaged=0, Seed=19, Summarized=0, Vectorizer=1\n",
      "Running: Patient=1, Feature=3, Engaged=0, Seed=19, Summarized=0, Vectorizer=2\n",
      "Running: Patient=1, Feature=3, Engaged=0, Seed=19, Summarized=1, Vectorizer=1\n",
      "Running: Patient=1, Feature=3, Engaged=0, Seed=19, Summarized=1, Vectorizer=2\n",
      "Running: Patient=1, Feature=3, Engaged=0, Seed=20, Summarized=0, Vectorizer=1\n",
      "Running: Patient=1, Feature=3, Engaged=0, Seed=20, Summarized=0, Vectorizer=2\n",
      "Running: Patient=1, Feature=3, Engaged=0, Seed=20, Summarized=1, Vectorizer=1\n",
      "Running: Patient=1, Feature=3, Engaged=0, Seed=20, Summarized=1, Vectorizer=2\n",
      "Running: Patient=1, Feature=3, Engaged=0, Seed=21, Summarized=0, Vectorizer=1\n",
      "Running: Patient=1, Feature=3, Engaged=0, Seed=21, Summarized=0, Vectorizer=2\n",
      "Running: Patient=1, Feature=3, Engaged=0, Seed=21, Summarized=1, Vectorizer=1\n",
      "Running: Patient=1, Feature=3, Engaged=0, Seed=21, Summarized=1, Vectorizer=2\n",
      "Running: Patient=1, Feature=3, Engaged=0, Seed=22, Summarized=0, Vectorizer=1\n",
      "Running: Patient=1, Feature=3, Engaged=0, Seed=22, Summarized=0, Vectorizer=2\n",
      "Running: Patient=1, Feature=3, Engaged=0, Seed=22, Summarized=1, Vectorizer=1\n",
      "Running: Patient=1, Feature=3, Engaged=0, Seed=22, Summarized=1, Vectorizer=2\n",
      "Running: Patient=1, Feature=3, Engaged=0, Seed=23, Summarized=0, Vectorizer=1\n",
      "Running: Patient=1, Feature=3, Engaged=0, Seed=23, Summarized=0, Vectorizer=2\n",
      "Running: Patient=1, Feature=3, Engaged=0, Seed=23, Summarized=1, Vectorizer=1\n",
      "Running: Patient=1, Feature=3, Engaged=0, Seed=23, Summarized=1, Vectorizer=2\n",
      "Running: Patient=1, Feature=3, Engaged=0, Seed=24, Summarized=0, Vectorizer=1\n",
      "Running: Patient=1, Feature=3, Engaged=0, Seed=24, Summarized=0, Vectorizer=2\n",
      "Running: Patient=1, Feature=3, Engaged=0, Seed=24, Summarized=1, Vectorizer=1\n",
      "Running: Patient=1, Feature=3, Engaged=0, Seed=24, Summarized=1, Vectorizer=2\n",
      "Running: Patient=1, Feature=3, Engaged=0, Seed=25, Summarized=0, Vectorizer=1\n",
      "Running: Patient=1, Feature=3, Engaged=0, Seed=25, Summarized=0, Vectorizer=2\n",
      "Running: Patient=1, Feature=3, Engaged=0, Seed=25, Summarized=1, Vectorizer=1\n",
      "Running: Patient=1, Feature=3, Engaged=0, Seed=25, Summarized=1, Vectorizer=2\n",
      "Running: Patient=1, Feature=3, Engaged=0, Seed=26, Summarized=0, Vectorizer=1\n",
      "Running: Patient=1, Feature=3, Engaged=0, Seed=26, Summarized=0, Vectorizer=2\n",
      "Running: Patient=1, Feature=3, Engaged=0, Seed=26, Summarized=1, Vectorizer=1\n",
      "Running: Patient=1, Feature=3, Engaged=0, Seed=26, Summarized=1, Vectorizer=2\n",
      "Running: Patient=1, Feature=3, Engaged=0, Seed=27, Summarized=0, Vectorizer=1\n",
      "Running: Patient=1, Feature=3, Engaged=0, Seed=27, Summarized=0, Vectorizer=2\n",
      "Running: Patient=1, Feature=3, Engaged=0, Seed=27, Summarized=1, Vectorizer=1\n",
      "Running: Patient=1, Feature=3, Engaged=0, Seed=27, Summarized=1, Vectorizer=2\n",
      "Running: Patient=1, Feature=3, Engaged=0, Seed=28, Summarized=0, Vectorizer=1\n",
      "Running: Patient=1, Feature=3, Engaged=0, Seed=28, Summarized=0, Vectorizer=2\n",
      "Running: Patient=1, Feature=3, Engaged=0, Seed=28, Summarized=1, Vectorizer=1\n",
      "Running: Patient=1, Feature=3, Engaged=0, Seed=28, Summarized=1, Vectorizer=2\n",
      "Running: Patient=1, Feature=3, Engaged=0, Seed=29, Summarized=0, Vectorizer=1\n",
      "Running: Patient=1, Feature=3, Engaged=0, Seed=29, Summarized=0, Vectorizer=2\n",
      "Running: Patient=1, Feature=3, Engaged=0, Seed=29, Summarized=1, Vectorizer=1\n",
      "Running: Patient=1, Feature=3, Engaged=0, Seed=29, Summarized=1, Vectorizer=2\n",
      "Running: Patient=1, Feature=3, Engaged=1, Seed=0, Summarized=0, Vectorizer=1\n",
      "Running: Patient=1, Feature=3, Engaged=1, Seed=0, Summarized=0, Vectorizer=2\n",
      "Running: Patient=1, Feature=3, Engaged=1, Seed=0, Summarized=1, Vectorizer=1\n",
      "Running: Patient=1, Feature=3, Engaged=1, Seed=0, Summarized=1, Vectorizer=2\n",
      "Running: Patient=1, Feature=3, Engaged=1, Seed=1, Summarized=0, Vectorizer=1\n",
      "Running: Patient=1, Feature=3, Engaged=1, Seed=1, Summarized=0, Vectorizer=2\n",
      "Running: Patient=1, Feature=3, Engaged=1, Seed=1, Summarized=1, Vectorizer=1\n",
      "Running: Patient=1, Feature=3, Engaged=1, Seed=1, Summarized=1, Vectorizer=2\n",
      "Running: Patient=1, Feature=3, Engaged=1, Seed=2, Summarized=0, Vectorizer=1\n",
      "Running: Patient=1, Feature=3, Engaged=1, Seed=2, Summarized=0, Vectorizer=2\n",
      "Running: Patient=1, Feature=3, Engaged=1, Seed=2, Summarized=1, Vectorizer=1\n",
      "Running: Patient=1, Feature=3, Engaged=1, Seed=2, Summarized=1, Vectorizer=2\n",
      "Running: Patient=1, Feature=3, Engaged=1, Seed=3, Summarized=0, Vectorizer=1\n",
      "Running: Patient=1, Feature=3, Engaged=1, Seed=3, Summarized=0, Vectorizer=2\n",
      "Running: Patient=1, Feature=3, Engaged=1, Seed=3, Summarized=1, Vectorizer=1\n",
      "Running: Patient=1, Feature=3, Engaged=1, Seed=3, Summarized=1, Vectorizer=2\n",
      "Running: Patient=1, Feature=3, Engaged=1, Seed=4, Summarized=0, Vectorizer=1\n",
      "Running: Patient=1, Feature=3, Engaged=1, Seed=4, Summarized=0, Vectorizer=2\n",
      "Running: Patient=1, Feature=3, Engaged=1, Seed=4, Summarized=1, Vectorizer=1\n",
      "Running: Patient=1, Feature=3, Engaged=1, Seed=4, Summarized=1, Vectorizer=2\n",
      "Running: Patient=1, Feature=3, Engaged=1, Seed=5, Summarized=0, Vectorizer=1\n",
      "Running: Patient=1, Feature=3, Engaged=1, Seed=5, Summarized=0, Vectorizer=2\n",
      "Running: Patient=1, Feature=3, Engaged=1, Seed=5, Summarized=1, Vectorizer=1\n",
      "Running: Patient=1, Feature=3, Engaged=1, Seed=5, Summarized=1, Vectorizer=2\n",
      "Running: Patient=1, Feature=3, Engaged=1, Seed=6, Summarized=0, Vectorizer=1\n",
      "Running: Patient=1, Feature=3, Engaged=1, Seed=6, Summarized=0, Vectorizer=2\n",
      "Running: Patient=1, Feature=3, Engaged=1, Seed=6, Summarized=1, Vectorizer=1\n",
      "Running: Patient=1, Feature=3, Engaged=1, Seed=6, Summarized=1, Vectorizer=2\n",
      "Running: Patient=1, Feature=3, Engaged=1, Seed=7, Summarized=0, Vectorizer=1\n",
      "Running: Patient=1, Feature=3, Engaged=1, Seed=7, Summarized=0, Vectorizer=2\n",
      "Running: Patient=1, Feature=3, Engaged=1, Seed=7, Summarized=1, Vectorizer=1\n",
      "Running: Patient=1, Feature=3, Engaged=1, Seed=7, Summarized=1, Vectorizer=2\n",
      "Running: Patient=1, Feature=3, Engaged=1, Seed=8, Summarized=0, Vectorizer=1\n",
      "Running: Patient=1, Feature=3, Engaged=1, Seed=8, Summarized=0, Vectorizer=2\n",
      "Running: Patient=1, Feature=3, Engaged=1, Seed=8, Summarized=1, Vectorizer=1\n",
      "Running: Patient=1, Feature=3, Engaged=1, Seed=8, Summarized=1, Vectorizer=2\n",
      "Running: Patient=1, Feature=3, Engaged=1, Seed=9, Summarized=0, Vectorizer=1\n",
      "Running: Patient=1, Feature=3, Engaged=1, Seed=9, Summarized=0, Vectorizer=2\n",
      "Running: Patient=1, Feature=3, Engaged=1, Seed=9, Summarized=1, Vectorizer=1\n",
      "Running: Patient=1, Feature=3, Engaged=1, Seed=9, Summarized=1, Vectorizer=2\n",
      "Running: Patient=1, Feature=3, Engaged=1, Seed=10, Summarized=0, Vectorizer=1\n",
      "Running: Patient=1, Feature=3, Engaged=1, Seed=10, Summarized=0, Vectorizer=2\n",
      "Running: Patient=1, Feature=3, Engaged=1, Seed=10, Summarized=1, Vectorizer=1\n",
      "Running: Patient=1, Feature=3, Engaged=1, Seed=10, Summarized=1, Vectorizer=2\n",
      "Running: Patient=1, Feature=3, Engaged=1, Seed=11, Summarized=0, Vectorizer=1\n",
      "Running: Patient=1, Feature=3, Engaged=1, Seed=11, Summarized=0, Vectorizer=2\n",
      "Running: Patient=1, Feature=3, Engaged=1, Seed=11, Summarized=1, Vectorizer=1\n",
      "Running: Patient=1, Feature=3, Engaged=1, Seed=11, Summarized=1, Vectorizer=2\n",
      "Running: Patient=1, Feature=3, Engaged=1, Seed=12, Summarized=0, Vectorizer=1\n",
      "Running: Patient=1, Feature=3, Engaged=1, Seed=12, Summarized=0, Vectorizer=2\n",
      "Running: Patient=1, Feature=3, Engaged=1, Seed=12, Summarized=1, Vectorizer=1\n",
      "Running: Patient=1, Feature=3, Engaged=1, Seed=12, Summarized=1, Vectorizer=2\n",
      "Running: Patient=1, Feature=3, Engaged=1, Seed=13, Summarized=0, Vectorizer=1\n",
      "Running: Patient=1, Feature=3, Engaged=1, Seed=13, Summarized=0, Vectorizer=2\n",
      "Running: Patient=1, Feature=3, Engaged=1, Seed=13, Summarized=1, Vectorizer=1\n",
      "Running: Patient=1, Feature=3, Engaged=1, Seed=13, Summarized=1, Vectorizer=2\n",
      "Running: Patient=1, Feature=3, Engaged=1, Seed=14, Summarized=0, Vectorizer=1\n",
      "Running: Patient=1, Feature=3, Engaged=1, Seed=14, Summarized=0, Vectorizer=2\n",
      "Running: Patient=1, Feature=3, Engaged=1, Seed=14, Summarized=1, Vectorizer=1\n",
      "Running: Patient=1, Feature=3, Engaged=1, Seed=14, Summarized=1, Vectorizer=2\n",
      "Running: Patient=1, Feature=3, Engaged=1, Seed=15, Summarized=0, Vectorizer=1\n",
      "Running: Patient=1, Feature=3, Engaged=1, Seed=15, Summarized=0, Vectorizer=2\n",
      "Running: Patient=1, Feature=3, Engaged=1, Seed=15, Summarized=1, Vectorizer=1\n",
      "Running: Patient=1, Feature=3, Engaged=1, Seed=15, Summarized=1, Vectorizer=2\n",
      "Running: Patient=1, Feature=3, Engaged=1, Seed=16, Summarized=0, Vectorizer=1\n",
      "Running: Patient=1, Feature=3, Engaged=1, Seed=16, Summarized=0, Vectorizer=2\n",
      "Running: Patient=1, Feature=3, Engaged=1, Seed=16, Summarized=1, Vectorizer=1\n",
      "Running: Patient=1, Feature=3, Engaged=1, Seed=16, Summarized=1, Vectorizer=2\n",
      "Running: Patient=1, Feature=3, Engaged=1, Seed=17, Summarized=0, Vectorizer=1\n",
      "Running: Patient=1, Feature=3, Engaged=1, Seed=17, Summarized=0, Vectorizer=2\n",
      "Running: Patient=1, Feature=3, Engaged=1, Seed=17, Summarized=1, Vectorizer=1\n",
      "Running: Patient=1, Feature=3, Engaged=1, Seed=17, Summarized=1, Vectorizer=2\n",
      "Running: Patient=1, Feature=3, Engaged=1, Seed=18, Summarized=0, Vectorizer=1\n",
      "Running: Patient=1, Feature=3, Engaged=1, Seed=18, Summarized=0, Vectorizer=2\n",
      "Running: Patient=1, Feature=3, Engaged=1, Seed=18, Summarized=1, Vectorizer=1\n",
      "Running: Patient=1, Feature=3, Engaged=1, Seed=18, Summarized=1, Vectorizer=2\n",
      "Running: Patient=1, Feature=3, Engaged=1, Seed=19, Summarized=0, Vectorizer=1\n",
      "Running: Patient=1, Feature=3, Engaged=1, Seed=19, Summarized=0, Vectorizer=2\n",
      "Running: Patient=1, Feature=3, Engaged=1, Seed=19, Summarized=1, Vectorizer=1\n",
      "Running: Patient=1, Feature=3, Engaged=1, Seed=19, Summarized=1, Vectorizer=2\n",
      "Running: Patient=1, Feature=3, Engaged=1, Seed=20, Summarized=0, Vectorizer=1\n",
      "Running: Patient=1, Feature=3, Engaged=1, Seed=20, Summarized=0, Vectorizer=2\n",
      "Running: Patient=1, Feature=3, Engaged=1, Seed=20, Summarized=1, Vectorizer=1\n",
      "Running: Patient=1, Feature=3, Engaged=1, Seed=20, Summarized=1, Vectorizer=2\n",
      "Running: Patient=1, Feature=3, Engaged=1, Seed=21, Summarized=0, Vectorizer=1\n",
      "Running: Patient=1, Feature=3, Engaged=1, Seed=21, Summarized=0, Vectorizer=2\n",
      "Running: Patient=1, Feature=3, Engaged=1, Seed=21, Summarized=1, Vectorizer=1\n",
      "Running: Patient=1, Feature=3, Engaged=1, Seed=21, Summarized=1, Vectorizer=2\n",
      "Running: Patient=1, Feature=3, Engaged=1, Seed=22, Summarized=0, Vectorizer=1\n",
      "Running: Patient=1, Feature=3, Engaged=1, Seed=22, Summarized=0, Vectorizer=2\n",
      "Running: Patient=1, Feature=3, Engaged=1, Seed=22, Summarized=1, Vectorizer=1\n",
      "Running: Patient=1, Feature=3, Engaged=1, Seed=22, Summarized=1, Vectorizer=2\n",
      "Running: Patient=1, Feature=3, Engaged=1, Seed=23, Summarized=0, Vectorizer=1\n",
      "Running: Patient=1, Feature=3, Engaged=1, Seed=23, Summarized=0, Vectorizer=2\n",
      "Running: Patient=1, Feature=3, Engaged=1, Seed=23, Summarized=1, Vectorizer=1\n",
      "Running: Patient=1, Feature=3, Engaged=1, Seed=23, Summarized=1, Vectorizer=2\n",
      "Running: Patient=1, Feature=3, Engaged=1, Seed=24, Summarized=0, Vectorizer=1\n",
      "Running: Patient=1, Feature=3, Engaged=1, Seed=24, Summarized=0, Vectorizer=2\n",
      "Running: Patient=1, Feature=3, Engaged=1, Seed=24, Summarized=1, Vectorizer=1\n",
      "Running: Patient=1, Feature=3, Engaged=1, Seed=24, Summarized=1, Vectorizer=2\n",
      "Running: Patient=1, Feature=3, Engaged=1, Seed=25, Summarized=0, Vectorizer=1\n",
      "Running: Patient=1, Feature=3, Engaged=1, Seed=25, Summarized=0, Vectorizer=2\n",
      "Running: Patient=1, Feature=3, Engaged=1, Seed=25, Summarized=1, Vectorizer=1\n",
      "Running: Patient=1, Feature=3, Engaged=1, Seed=25, Summarized=1, Vectorizer=2\n",
      "Running: Patient=1, Feature=3, Engaged=1, Seed=26, Summarized=0, Vectorizer=1\n",
      "Running: Patient=1, Feature=3, Engaged=1, Seed=26, Summarized=0, Vectorizer=2\n",
      "Running: Patient=1, Feature=3, Engaged=1, Seed=26, Summarized=1, Vectorizer=1\n",
      "Running: Patient=1, Feature=3, Engaged=1, Seed=26, Summarized=1, Vectorizer=2\n",
      "Running: Patient=1, Feature=3, Engaged=1, Seed=27, Summarized=0, Vectorizer=1\n",
      "Running: Patient=1, Feature=3, Engaged=1, Seed=27, Summarized=0, Vectorizer=2\n",
      "Running: Patient=1, Feature=3, Engaged=1, Seed=27, Summarized=1, Vectorizer=1\n",
      "Running: Patient=1, Feature=3, Engaged=1, Seed=27, Summarized=1, Vectorizer=2\n",
      "Running: Patient=1, Feature=3, Engaged=1, Seed=28, Summarized=0, Vectorizer=1\n",
      "Running: Patient=1, Feature=3, Engaged=1, Seed=28, Summarized=0, Vectorizer=2\n",
      "Running: Patient=1, Feature=3, Engaged=1, Seed=28, Summarized=1, Vectorizer=1\n",
      "Running: Patient=1, Feature=3, Engaged=1, Seed=28, Summarized=1, Vectorizer=2\n",
      "Running: Patient=1, Feature=3, Engaged=1, Seed=29, Summarized=0, Vectorizer=1\n",
      "Running: Patient=1, Feature=3, Engaged=1, Seed=29, Summarized=0, Vectorizer=2\n",
      "Running: Patient=1, Feature=3, Engaged=1, Seed=29, Summarized=1, Vectorizer=1\n",
      "Running: Patient=1, Feature=3, Engaged=1, Seed=29, Summarized=1, Vectorizer=2\n",
      "Running: Patient=2, Feature=2, Engaged=0, Seed=0, Summarized=0, Vectorizer=1\n",
      "Running: Patient=2, Feature=2, Engaged=0, Seed=0, Summarized=0, Vectorizer=2\n",
      "Running: Patient=2, Feature=2, Engaged=0, Seed=0, Summarized=1, Vectorizer=1\n",
      "Running: Patient=2, Feature=2, Engaged=0, Seed=0, Summarized=1, Vectorizer=2\n",
      "Running: Patient=2, Feature=2, Engaged=0, Seed=1, Summarized=0, Vectorizer=1\n",
      "Running: Patient=2, Feature=2, Engaged=0, Seed=1, Summarized=0, Vectorizer=2\n",
      "Running: Patient=2, Feature=2, Engaged=0, Seed=1, Summarized=1, Vectorizer=1\n",
      "Running: Patient=2, Feature=2, Engaged=0, Seed=1, Summarized=1, Vectorizer=2\n",
      "Running: Patient=2, Feature=2, Engaged=0, Seed=2, Summarized=0, Vectorizer=1\n",
      "Running: Patient=2, Feature=2, Engaged=0, Seed=2, Summarized=0, Vectorizer=2\n",
      "Running: Patient=2, Feature=2, Engaged=0, Seed=2, Summarized=1, Vectorizer=1\n",
      "Running: Patient=2, Feature=2, Engaged=0, Seed=2, Summarized=1, Vectorizer=2\n",
      "Running: Patient=2, Feature=2, Engaged=0, Seed=3, Summarized=0, Vectorizer=1\n",
      "Running: Patient=2, Feature=2, Engaged=0, Seed=3, Summarized=0, Vectorizer=2\n",
      "Running: Patient=2, Feature=2, Engaged=0, Seed=3, Summarized=1, Vectorizer=1\n",
      "Running: Patient=2, Feature=2, Engaged=0, Seed=3, Summarized=1, Vectorizer=2\n",
      "Running: Patient=2, Feature=2, Engaged=0, Seed=4, Summarized=0, Vectorizer=1\n",
      "Running: Patient=2, Feature=2, Engaged=0, Seed=4, Summarized=0, Vectorizer=2\n",
      "Running: Patient=2, Feature=2, Engaged=0, Seed=4, Summarized=1, Vectorizer=1\n",
      "Running: Patient=2, Feature=2, Engaged=0, Seed=4, Summarized=1, Vectorizer=2\n",
      "Running: Patient=2, Feature=2, Engaged=0, Seed=5, Summarized=0, Vectorizer=1\n",
      "Running: Patient=2, Feature=2, Engaged=0, Seed=5, Summarized=0, Vectorizer=2\n",
      "Running: Patient=2, Feature=2, Engaged=0, Seed=5, Summarized=1, Vectorizer=1\n",
      "Running: Patient=2, Feature=2, Engaged=0, Seed=5, Summarized=1, Vectorizer=2\n",
      "Running: Patient=2, Feature=2, Engaged=0, Seed=6, Summarized=0, Vectorizer=1\n",
      "Running: Patient=2, Feature=2, Engaged=0, Seed=6, Summarized=0, Vectorizer=2\n",
      "Running: Patient=2, Feature=2, Engaged=0, Seed=6, Summarized=1, Vectorizer=1\n",
      "Running: Patient=2, Feature=2, Engaged=0, Seed=6, Summarized=1, Vectorizer=2\n",
      "Running: Patient=2, Feature=2, Engaged=0, Seed=7, Summarized=0, Vectorizer=1\n",
      "Running: Patient=2, Feature=2, Engaged=0, Seed=7, Summarized=0, Vectorizer=2\n",
      "Running: Patient=2, Feature=2, Engaged=0, Seed=7, Summarized=1, Vectorizer=1\n",
      "Running: Patient=2, Feature=2, Engaged=0, Seed=7, Summarized=1, Vectorizer=2\n",
      "Running: Patient=2, Feature=2, Engaged=0, Seed=8, Summarized=0, Vectorizer=1\n",
      "Running: Patient=2, Feature=2, Engaged=0, Seed=8, Summarized=0, Vectorizer=2\n",
      "Running: Patient=2, Feature=2, Engaged=0, Seed=8, Summarized=1, Vectorizer=1\n",
      "Running: Patient=2, Feature=2, Engaged=0, Seed=8, Summarized=1, Vectorizer=2\n",
      "Running: Patient=2, Feature=2, Engaged=0, Seed=9, Summarized=0, Vectorizer=1\n",
      "Running: Patient=2, Feature=2, Engaged=0, Seed=9, Summarized=0, Vectorizer=2\n",
      "Running: Patient=2, Feature=2, Engaged=0, Seed=9, Summarized=1, Vectorizer=1\n",
      "Running: Patient=2, Feature=2, Engaged=0, Seed=9, Summarized=1, Vectorizer=2\n",
      "Running: Patient=2, Feature=2, Engaged=0, Seed=10, Summarized=0, Vectorizer=1\n",
      "Running: Patient=2, Feature=2, Engaged=0, Seed=10, Summarized=0, Vectorizer=2\n",
      "Running: Patient=2, Feature=2, Engaged=0, Seed=10, Summarized=1, Vectorizer=1\n",
      "Running: Patient=2, Feature=2, Engaged=0, Seed=10, Summarized=1, Vectorizer=2\n",
      "Running: Patient=2, Feature=2, Engaged=0, Seed=11, Summarized=0, Vectorizer=1\n",
      "Running: Patient=2, Feature=2, Engaged=0, Seed=11, Summarized=0, Vectorizer=2\n",
      "Running: Patient=2, Feature=2, Engaged=0, Seed=11, Summarized=1, Vectorizer=1\n",
      "Running: Patient=2, Feature=2, Engaged=0, Seed=11, Summarized=1, Vectorizer=2\n",
      "Running: Patient=2, Feature=2, Engaged=0, Seed=12, Summarized=0, Vectorizer=1\n",
      "Running: Patient=2, Feature=2, Engaged=0, Seed=12, Summarized=0, Vectorizer=2\n",
      "Running: Patient=2, Feature=2, Engaged=0, Seed=12, Summarized=1, Vectorizer=1\n",
      "Running: Patient=2, Feature=2, Engaged=0, Seed=12, Summarized=1, Vectorizer=2\n",
      "Running: Patient=2, Feature=2, Engaged=0, Seed=13, Summarized=0, Vectorizer=1\n",
      "Running: Patient=2, Feature=2, Engaged=0, Seed=13, Summarized=0, Vectorizer=2\n",
      "Running: Patient=2, Feature=2, Engaged=0, Seed=13, Summarized=1, Vectorizer=1\n",
      "Running: Patient=2, Feature=2, Engaged=0, Seed=13, Summarized=1, Vectorizer=2\n",
      "Running: Patient=2, Feature=2, Engaged=0, Seed=14, Summarized=0, Vectorizer=1\n",
      "Running: Patient=2, Feature=2, Engaged=0, Seed=14, Summarized=0, Vectorizer=2\n",
      "Running: Patient=2, Feature=2, Engaged=0, Seed=14, Summarized=1, Vectorizer=1\n",
      "Running: Patient=2, Feature=2, Engaged=0, Seed=14, Summarized=1, Vectorizer=2\n",
      "Running: Patient=2, Feature=2, Engaged=0, Seed=15, Summarized=0, Vectorizer=1\n",
      "Running: Patient=2, Feature=2, Engaged=0, Seed=15, Summarized=0, Vectorizer=2\n",
      "Running: Patient=2, Feature=2, Engaged=0, Seed=15, Summarized=1, Vectorizer=1\n",
      "Running: Patient=2, Feature=2, Engaged=0, Seed=15, Summarized=1, Vectorizer=2\n",
      "Running: Patient=2, Feature=2, Engaged=0, Seed=16, Summarized=0, Vectorizer=1\n",
      "Running: Patient=2, Feature=2, Engaged=0, Seed=16, Summarized=0, Vectorizer=2\n",
      "Running: Patient=2, Feature=2, Engaged=0, Seed=16, Summarized=1, Vectorizer=1\n",
      "Running: Patient=2, Feature=2, Engaged=0, Seed=16, Summarized=1, Vectorizer=2\n",
      "Running: Patient=2, Feature=2, Engaged=0, Seed=17, Summarized=0, Vectorizer=1\n",
      "Running: Patient=2, Feature=2, Engaged=0, Seed=17, Summarized=0, Vectorizer=2\n",
      "Running: Patient=2, Feature=2, Engaged=0, Seed=17, Summarized=1, Vectorizer=1\n",
      "Running: Patient=2, Feature=2, Engaged=0, Seed=17, Summarized=1, Vectorizer=2\n",
      "Running: Patient=2, Feature=2, Engaged=0, Seed=18, Summarized=0, Vectorizer=1\n",
      "Running: Patient=2, Feature=2, Engaged=0, Seed=18, Summarized=0, Vectorizer=2\n",
      "Running: Patient=2, Feature=2, Engaged=0, Seed=18, Summarized=1, Vectorizer=1\n",
      "Running: Patient=2, Feature=2, Engaged=0, Seed=18, Summarized=1, Vectorizer=2\n",
      "Running: Patient=2, Feature=2, Engaged=0, Seed=19, Summarized=0, Vectorizer=1\n",
      "Running: Patient=2, Feature=2, Engaged=0, Seed=19, Summarized=0, Vectorizer=2\n",
      "Running: Patient=2, Feature=2, Engaged=0, Seed=19, Summarized=1, Vectorizer=1\n",
      "Running: Patient=2, Feature=2, Engaged=0, Seed=19, Summarized=1, Vectorizer=2\n",
      "Running: Patient=2, Feature=2, Engaged=0, Seed=20, Summarized=0, Vectorizer=1\n",
      "Running: Patient=2, Feature=2, Engaged=0, Seed=20, Summarized=0, Vectorizer=2\n",
      "Running: Patient=2, Feature=2, Engaged=0, Seed=20, Summarized=1, Vectorizer=1\n",
      "Running: Patient=2, Feature=2, Engaged=0, Seed=20, Summarized=1, Vectorizer=2\n",
      "Running: Patient=2, Feature=2, Engaged=0, Seed=21, Summarized=0, Vectorizer=1\n",
      "Running: Patient=2, Feature=2, Engaged=0, Seed=21, Summarized=0, Vectorizer=2\n",
      "Running: Patient=2, Feature=2, Engaged=0, Seed=21, Summarized=1, Vectorizer=1\n",
      "Running: Patient=2, Feature=2, Engaged=0, Seed=21, Summarized=1, Vectorizer=2\n",
      "Running: Patient=2, Feature=2, Engaged=0, Seed=22, Summarized=0, Vectorizer=1\n",
      "Running: Patient=2, Feature=2, Engaged=0, Seed=22, Summarized=0, Vectorizer=2\n",
      "Running: Patient=2, Feature=2, Engaged=0, Seed=22, Summarized=1, Vectorizer=1\n",
      "Running: Patient=2, Feature=2, Engaged=0, Seed=22, Summarized=1, Vectorizer=2\n",
      "Running: Patient=2, Feature=2, Engaged=0, Seed=23, Summarized=0, Vectorizer=1\n",
      "Running: Patient=2, Feature=2, Engaged=0, Seed=23, Summarized=0, Vectorizer=2\n",
      "Running: Patient=2, Feature=2, Engaged=0, Seed=23, Summarized=1, Vectorizer=1\n",
      "Running: Patient=2, Feature=2, Engaged=0, Seed=23, Summarized=1, Vectorizer=2\n",
      "Running: Patient=2, Feature=2, Engaged=0, Seed=24, Summarized=0, Vectorizer=1\n",
      "Running: Patient=2, Feature=2, Engaged=0, Seed=24, Summarized=0, Vectorizer=2\n",
      "Running: Patient=2, Feature=2, Engaged=0, Seed=24, Summarized=1, Vectorizer=1\n",
      "Running: Patient=2, Feature=2, Engaged=0, Seed=24, Summarized=1, Vectorizer=2\n",
      "Running: Patient=2, Feature=2, Engaged=0, Seed=25, Summarized=0, Vectorizer=1\n",
      "Running: Patient=2, Feature=2, Engaged=0, Seed=25, Summarized=0, Vectorizer=2\n",
      "Running: Patient=2, Feature=2, Engaged=0, Seed=25, Summarized=1, Vectorizer=1\n",
      "Running: Patient=2, Feature=2, Engaged=0, Seed=25, Summarized=1, Vectorizer=2\n",
      "Running: Patient=2, Feature=2, Engaged=0, Seed=26, Summarized=0, Vectorizer=1\n",
      "Running: Patient=2, Feature=2, Engaged=0, Seed=26, Summarized=0, Vectorizer=2\n",
      "Running: Patient=2, Feature=2, Engaged=0, Seed=26, Summarized=1, Vectorizer=1\n",
      "Running: Patient=2, Feature=2, Engaged=0, Seed=26, Summarized=1, Vectorizer=2\n",
      "Running: Patient=2, Feature=2, Engaged=0, Seed=27, Summarized=0, Vectorizer=1\n",
      "Running: Patient=2, Feature=2, Engaged=0, Seed=27, Summarized=0, Vectorizer=2\n",
      "Running: Patient=2, Feature=2, Engaged=0, Seed=27, Summarized=1, Vectorizer=1\n",
      "Running: Patient=2, Feature=2, Engaged=0, Seed=27, Summarized=1, Vectorizer=2\n",
      "Running: Patient=2, Feature=2, Engaged=0, Seed=28, Summarized=0, Vectorizer=1\n",
      "Running: Patient=2, Feature=2, Engaged=0, Seed=28, Summarized=0, Vectorizer=2\n",
      "Running: Patient=2, Feature=2, Engaged=0, Seed=28, Summarized=1, Vectorizer=1\n",
      "Running: Patient=2, Feature=2, Engaged=0, Seed=28, Summarized=1, Vectorizer=2\n",
      "Running: Patient=2, Feature=2, Engaged=0, Seed=29, Summarized=0, Vectorizer=1\n",
      "Running: Patient=2, Feature=2, Engaged=0, Seed=29, Summarized=0, Vectorizer=2\n",
      "Running: Patient=2, Feature=2, Engaged=0, Seed=29, Summarized=1, Vectorizer=1\n",
      "Running: Patient=2, Feature=2, Engaged=0, Seed=29, Summarized=1, Vectorizer=2\n",
      "Running: Patient=2, Feature=2, Engaged=1, Seed=0, Summarized=0, Vectorizer=1\n",
      "Running: Patient=2, Feature=2, Engaged=1, Seed=0, Summarized=0, Vectorizer=2\n",
      "Running: Patient=2, Feature=2, Engaged=1, Seed=0, Summarized=1, Vectorizer=1\n",
      "Running: Patient=2, Feature=2, Engaged=1, Seed=0, Summarized=1, Vectorizer=2\n",
      "Running: Patient=2, Feature=2, Engaged=1, Seed=1, Summarized=0, Vectorizer=1\n",
      "Running: Patient=2, Feature=2, Engaged=1, Seed=1, Summarized=0, Vectorizer=2\n",
      "Running: Patient=2, Feature=2, Engaged=1, Seed=1, Summarized=1, Vectorizer=1\n",
      "Running: Patient=2, Feature=2, Engaged=1, Seed=1, Summarized=1, Vectorizer=2\n",
      "Running: Patient=2, Feature=2, Engaged=1, Seed=2, Summarized=0, Vectorizer=1\n",
      "Running: Patient=2, Feature=2, Engaged=1, Seed=2, Summarized=0, Vectorizer=2\n",
      "Running: Patient=2, Feature=2, Engaged=1, Seed=2, Summarized=1, Vectorizer=1\n",
      "Running: Patient=2, Feature=2, Engaged=1, Seed=2, Summarized=1, Vectorizer=2\n",
      "Running: Patient=2, Feature=2, Engaged=1, Seed=3, Summarized=0, Vectorizer=1\n",
      "Running: Patient=2, Feature=2, Engaged=1, Seed=3, Summarized=0, Vectorizer=2\n",
      "Running: Patient=2, Feature=2, Engaged=1, Seed=3, Summarized=1, Vectorizer=1\n",
      "Running: Patient=2, Feature=2, Engaged=1, Seed=3, Summarized=1, Vectorizer=2\n",
      "Running: Patient=2, Feature=2, Engaged=1, Seed=4, Summarized=0, Vectorizer=1\n",
      "Running: Patient=2, Feature=2, Engaged=1, Seed=4, Summarized=0, Vectorizer=2\n",
      "Running: Patient=2, Feature=2, Engaged=1, Seed=4, Summarized=1, Vectorizer=1\n",
      "Running: Patient=2, Feature=2, Engaged=1, Seed=4, Summarized=1, Vectorizer=2\n",
      "Running: Patient=2, Feature=2, Engaged=1, Seed=5, Summarized=0, Vectorizer=1\n",
      "Running: Patient=2, Feature=2, Engaged=1, Seed=5, Summarized=0, Vectorizer=2\n",
      "Running: Patient=2, Feature=2, Engaged=1, Seed=5, Summarized=1, Vectorizer=1\n",
      "Running: Patient=2, Feature=2, Engaged=1, Seed=5, Summarized=1, Vectorizer=2\n",
      "Running: Patient=2, Feature=2, Engaged=1, Seed=6, Summarized=0, Vectorizer=1\n",
      "Running: Patient=2, Feature=2, Engaged=1, Seed=6, Summarized=0, Vectorizer=2\n",
      "Running: Patient=2, Feature=2, Engaged=1, Seed=6, Summarized=1, Vectorizer=1\n",
      "Running: Patient=2, Feature=2, Engaged=1, Seed=6, Summarized=1, Vectorizer=2\n",
      "Running: Patient=2, Feature=2, Engaged=1, Seed=7, Summarized=0, Vectorizer=1\n",
      "Running: Patient=2, Feature=2, Engaged=1, Seed=7, Summarized=0, Vectorizer=2\n",
      "Running: Patient=2, Feature=2, Engaged=1, Seed=7, Summarized=1, Vectorizer=1\n",
      "Running: Patient=2, Feature=2, Engaged=1, Seed=7, Summarized=1, Vectorizer=2\n",
      "Running: Patient=2, Feature=2, Engaged=1, Seed=8, Summarized=0, Vectorizer=1\n",
      "Running: Patient=2, Feature=2, Engaged=1, Seed=8, Summarized=0, Vectorizer=2\n",
      "Running: Patient=2, Feature=2, Engaged=1, Seed=8, Summarized=1, Vectorizer=1\n",
      "Running: Patient=2, Feature=2, Engaged=1, Seed=8, Summarized=1, Vectorizer=2\n",
      "Running: Patient=2, Feature=2, Engaged=1, Seed=9, Summarized=0, Vectorizer=1\n",
      "Running: Patient=2, Feature=2, Engaged=1, Seed=9, Summarized=0, Vectorizer=2\n",
      "Running: Patient=2, Feature=2, Engaged=1, Seed=9, Summarized=1, Vectorizer=1\n",
      "Running: Patient=2, Feature=2, Engaged=1, Seed=9, Summarized=1, Vectorizer=2\n",
      "Running: Patient=2, Feature=2, Engaged=1, Seed=10, Summarized=0, Vectorizer=1\n",
      "Running: Patient=2, Feature=2, Engaged=1, Seed=10, Summarized=0, Vectorizer=2\n",
      "Running: Patient=2, Feature=2, Engaged=1, Seed=10, Summarized=1, Vectorizer=1\n",
      "Running: Patient=2, Feature=2, Engaged=1, Seed=10, Summarized=1, Vectorizer=2\n",
      "Running: Patient=2, Feature=2, Engaged=1, Seed=11, Summarized=0, Vectorizer=1\n",
      "Running: Patient=2, Feature=2, Engaged=1, Seed=11, Summarized=0, Vectorizer=2\n",
      "Running: Patient=2, Feature=2, Engaged=1, Seed=11, Summarized=1, Vectorizer=1\n",
      "Running: Patient=2, Feature=2, Engaged=1, Seed=11, Summarized=1, Vectorizer=2\n",
      "Running: Patient=2, Feature=2, Engaged=1, Seed=12, Summarized=0, Vectorizer=1\n",
      "Running: Patient=2, Feature=2, Engaged=1, Seed=12, Summarized=0, Vectorizer=2\n",
      "Running: Patient=2, Feature=2, Engaged=1, Seed=12, Summarized=1, Vectorizer=1\n",
      "Running: Patient=2, Feature=2, Engaged=1, Seed=12, Summarized=1, Vectorizer=2\n",
      "Running: Patient=2, Feature=2, Engaged=1, Seed=13, Summarized=0, Vectorizer=1\n",
      "Running: Patient=2, Feature=2, Engaged=1, Seed=13, Summarized=0, Vectorizer=2\n",
      "Running: Patient=2, Feature=2, Engaged=1, Seed=13, Summarized=1, Vectorizer=1\n",
      "Running: Patient=2, Feature=2, Engaged=1, Seed=13, Summarized=1, Vectorizer=2\n",
      "Running: Patient=2, Feature=2, Engaged=1, Seed=14, Summarized=0, Vectorizer=1\n",
      "Running: Patient=2, Feature=2, Engaged=1, Seed=14, Summarized=0, Vectorizer=2\n",
      "Running: Patient=2, Feature=2, Engaged=1, Seed=14, Summarized=1, Vectorizer=1\n",
      "Running: Patient=2, Feature=2, Engaged=1, Seed=14, Summarized=1, Vectorizer=2\n",
      "Running: Patient=2, Feature=2, Engaged=1, Seed=15, Summarized=0, Vectorizer=1\n",
      "Running: Patient=2, Feature=2, Engaged=1, Seed=15, Summarized=0, Vectorizer=2\n",
      "Running: Patient=2, Feature=2, Engaged=1, Seed=15, Summarized=1, Vectorizer=1\n",
      "Running: Patient=2, Feature=2, Engaged=1, Seed=15, Summarized=1, Vectorizer=2\n",
      "Running: Patient=2, Feature=2, Engaged=1, Seed=16, Summarized=0, Vectorizer=1\n",
      "Running: Patient=2, Feature=2, Engaged=1, Seed=16, Summarized=0, Vectorizer=2\n",
      "Running: Patient=2, Feature=2, Engaged=1, Seed=16, Summarized=1, Vectorizer=1\n",
      "Running: Patient=2, Feature=2, Engaged=1, Seed=16, Summarized=1, Vectorizer=2\n",
      "Running: Patient=2, Feature=2, Engaged=1, Seed=17, Summarized=0, Vectorizer=1\n",
      "Running: Patient=2, Feature=2, Engaged=1, Seed=17, Summarized=0, Vectorizer=2\n",
      "Running: Patient=2, Feature=2, Engaged=1, Seed=17, Summarized=1, Vectorizer=1\n",
      "Running: Patient=2, Feature=2, Engaged=1, Seed=17, Summarized=1, Vectorizer=2\n",
      "Running: Patient=2, Feature=2, Engaged=1, Seed=18, Summarized=0, Vectorizer=1\n",
      "Running: Patient=2, Feature=2, Engaged=1, Seed=18, Summarized=0, Vectorizer=2\n",
      "Running: Patient=2, Feature=2, Engaged=1, Seed=18, Summarized=1, Vectorizer=1\n",
      "Running: Patient=2, Feature=2, Engaged=1, Seed=18, Summarized=1, Vectorizer=2\n",
      "Running: Patient=2, Feature=2, Engaged=1, Seed=19, Summarized=0, Vectorizer=1\n",
      "Running: Patient=2, Feature=2, Engaged=1, Seed=19, Summarized=0, Vectorizer=2\n",
      "Running: Patient=2, Feature=2, Engaged=1, Seed=19, Summarized=1, Vectorizer=1\n",
      "Running: Patient=2, Feature=2, Engaged=1, Seed=19, Summarized=1, Vectorizer=2\n",
      "Running: Patient=2, Feature=2, Engaged=1, Seed=20, Summarized=0, Vectorizer=1\n",
      "Running: Patient=2, Feature=2, Engaged=1, Seed=20, Summarized=0, Vectorizer=2\n",
      "Running: Patient=2, Feature=2, Engaged=1, Seed=20, Summarized=1, Vectorizer=1\n",
      "Running: Patient=2, Feature=2, Engaged=1, Seed=20, Summarized=1, Vectorizer=2\n",
      "Running: Patient=2, Feature=2, Engaged=1, Seed=21, Summarized=0, Vectorizer=1\n",
      "Running: Patient=2, Feature=2, Engaged=1, Seed=21, Summarized=0, Vectorizer=2\n",
      "Running: Patient=2, Feature=2, Engaged=1, Seed=21, Summarized=1, Vectorizer=1\n",
      "Running: Patient=2, Feature=2, Engaged=1, Seed=21, Summarized=1, Vectorizer=2\n",
      "Running: Patient=2, Feature=2, Engaged=1, Seed=22, Summarized=0, Vectorizer=1\n",
      "Running: Patient=2, Feature=2, Engaged=1, Seed=22, Summarized=0, Vectorizer=2\n",
      "Running: Patient=2, Feature=2, Engaged=1, Seed=22, Summarized=1, Vectorizer=1\n",
      "Running: Patient=2, Feature=2, Engaged=1, Seed=22, Summarized=1, Vectorizer=2\n",
      "Running: Patient=2, Feature=2, Engaged=1, Seed=23, Summarized=0, Vectorizer=1\n",
      "Running: Patient=2, Feature=2, Engaged=1, Seed=23, Summarized=0, Vectorizer=2\n",
      "Running: Patient=2, Feature=2, Engaged=1, Seed=23, Summarized=1, Vectorizer=1\n",
      "Running: Patient=2, Feature=2, Engaged=1, Seed=23, Summarized=1, Vectorizer=2\n",
      "Running: Patient=2, Feature=2, Engaged=1, Seed=24, Summarized=0, Vectorizer=1\n",
      "Running: Patient=2, Feature=2, Engaged=1, Seed=24, Summarized=0, Vectorizer=2\n",
      "Running: Patient=2, Feature=2, Engaged=1, Seed=24, Summarized=1, Vectorizer=1\n",
      "Running: Patient=2, Feature=2, Engaged=1, Seed=24, Summarized=1, Vectorizer=2\n",
      "Running: Patient=2, Feature=2, Engaged=1, Seed=25, Summarized=0, Vectorizer=1\n",
      "Running: Patient=2, Feature=2, Engaged=1, Seed=25, Summarized=0, Vectorizer=2\n",
      "Running: Patient=2, Feature=2, Engaged=1, Seed=25, Summarized=1, Vectorizer=1\n",
      "Running: Patient=2, Feature=2, Engaged=1, Seed=25, Summarized=1, Vectorizer=2\n",
      "Running: Patient=2, Feature=2, Engaged=1, Seed=26, Summarized=0, Vectorizer=1\n",
      "Running: Patient=2, Feature=2, Engaged=1, Seed=26, Summarized=0, Vectorizer=2\n",
      "Running: Patient=2, Feature=2, Engaged=1, Seed=26, Summarized=1, Vectorizer=1\n",
      "Running: Patient=2, Feature=2, Engaged=1, Seed=26, Summarized=1, Vectorizer=2\n",
      "Running: Patient=2, Feature=2, Engaged=1, Seed=27, Summarized=0, Vectorizer=1\n",
      "Running: Patient=2, Feature=2, Engaged=1, Seed=27, Summarized=0, Vectorizer=2\n",
      "Running: Patient=2, Feature=2, Engaged=1, Seed=27, Summarized=1, Vectorizer=1\n",
      "Running: Patient=2, Feature=2, Engaged=1, Seed=27, Summarized=1, Vectorizer=2\n",
      "Running: Patient=2, Feature=2, Engaged=1, Seed=28, Summarized=0, Vectorizer=1\n",
      "Running: Patient=2, Feature=2, Engaged=1, Seed=28, Summarized=0, Vectorizer=2\n",
      "Running: Patient=2, Feature=2, Engaged=1, Seed=28, Summarized=1, Vectorizer=1\n",
      "Running: Patient=2, Feature=2, Engaged=1, Seed=28, Summarized=1, Vectorizer=2\n",
      "Running: Patient=2, Feature=2, Engaged=1, Seed=29, Summarized=0, Vectorizer=1\n",
      "Running: Patient=2, Feature=2, Engaged=1, Seed=29, Summarized=0, Vectorizer=2\n",
      "Running: Patient=2, Feature=2, Engaged=1, Seed=29, Summarized=1, Vectorizer=1\n",
      "Running: Patient=2, Feature=2, Engaged=1, Seed=29, Summarized=1, Vectorizer=2\n",
      "Running: Patient=2, Feature=3, Engaged=0, Seed=0, Summarized=0, Vectorizer=1\n",
      "Running: Patient=2, Feature=3, Engaged=0, Seed=0, Summarized=0, Vectorizer=2\n"
     ]
    },
    {
     "name": "stderr",
     "output_type": "stream",
     "text": [
      "100%|██████████| 696/696 [05:49<00:00,  1.99it/s]\n"
     ]
    },
    {
     "name": "stdout",
     "output_type": "stream",
     "text": [
      "Running: Patient=2, Feature=3, Engaged=0, Seed=0, Summarized=1, Vectorizer=1\n",
      "Running: Patient=2, Feature=3, Engaged=0, Seed=0, Summarized=1, Vectorizer=2\n"
     ]
    },
    {
     "name": "stderr",
     "output_type": "stream",
     "text": [
      "100%|██████████| 696/696 [05:23<00:00,  2.15it/s]\n"
     ]
    },
    {
     "name": "stdout",
     "output_type": "stream",
     "text": [
      "Running: Patient=2, Feature=3, Engaged=0, Seed=1, Summarized=0, Vectorizer=1\n",
      "Running: Patient=2, Feature=3, Engaged=0, Seed=1, Summarized=0, Vectorizer=2\n"
     ]
    },
    {
     "name": "stderr",
     "output_type": "stream",
     "text": [
      "100%|██████████| 696/696 [04:57<00:00,  2.34it/s]\n"
     ]
    },
    {
     "name": "stdout",
     "output_type": "stream",
     "text": [
      "Running: Patient=2, Feature=3, Engaged=0, Seed=1, Summarized=1, Vectorizer=1\n",
      "Running: Patient=2, Feature=3, Engaged=0, Seed=1, Summarized=1, Vectorizer=2\n"
     ]
    },
    {
     "name": "stderr",
     "output_type": "stream",
     "text": [
      "100%|██████████| 696/696 [04:58<00:00,  2.33it/s]\n"
     ]
    },
    {
     "name": "stdout",
     "output_type": "stream",
     "text": [
      "Running: Patient=2, Feature=3, Engaged=0, Seed=2, Summarized=0, Vectorizer=1\n",
      "Running: Patient=2, Feature=3, Engaged=0, Seed=2, Summarized=0, Vectorizer=2\n"
     ]
    },
    {
     "name": "stderr",
     "output_type": "stream",
     "text": [
      "100%|██████████| 696/696 [04:59<00:00,  2.33it/s]\n"
     ]
    },
    {
     "name": "stdout",
     "output_type": "stream",
     "text": [
      "Running: Patient=2, Feature=3, Engaged=0, Seed=2, Summarized=1, Vectorizer=1\n",
      "Running: Patient=2, Feature=3, Engaged=0, Seed=2, Summarized=1, Vectorizer=2\n"
     ]
    },
    {
     "name": "stderr",
     "output_type": "stream",
     "text": [
      "100%|██████████| 696/696 [04:56<00:00,  2.35it/s]\n"
     ]
    },
    {
     "name": "stdout",
     "output_type": "stream",
     "text": [
      "Running: Patient=2, Feature=3, Engaged=0, Seed=3, Summarized=0, Vectorizer=1\n",
      "Running: Patient=2, Feature=3, Engaged=0, Seed=3, Summarized=0, Vectorizer=2\n"
     ]
    },
    {
     "name": "stderr",
     "output_type": "stream",
     "text": [
      "100%|██████████| 696/696 [04:58<00:00,  2.33it/s]\n"
     ]
    },
    {
     "name": "stdout",
     "output_type": "stream",
     "text": [
      "Running: Patient=2, Feature=3, Engaged=0, Seed=3, Summarized=1, Vectorizer=1\n",
      "Running: Patient=2, Feature=3, Engaged=0, Seed=3, Summarized=1, Vectorizer=2\n"
     ]
    },
    {
     "name": "stderr",
     "output_type": "stream",
     "text": [
      "100%|██████████| 696/696 [05:01<00:00,  2.31it/s]\n"
     ]
    },
    {
     "name": "stdout",
     "output_type": "stream",
     "text": [
      "Running: Patient=2, Feature=3, Engaged=0, Seed=4, Summarized=0, Vectorizer=1\n",
      "Running: Patient=2, Feature=3, Engaged=0, Seed=4, Summarized=0, Vectorizer=2\n"
     ]
    },
    {
     "name": "stderr",
     "output_type": "stream",
     "text": [
      "100%|██████████| 696/696 [05:11<00:00,  2.24it/s]\n"
     ]
    },
    {
     "name": "stdout",
     "output_type": "stream",
     "text": [
      "Running: Patient=2, Feature=3, Engaged=0, Seed=4, Summarized=1, Vectorizer=1\n",
      "Running: Patient=2, Feature=3, Engaged=0, Seed=4, Summarized=1, Vectorizer=2\n"
     ]
    },
    {
     "name": "stderr",
     "output_type": "stream",
     "text": [
      "100%|██████████| 696/696 [05:39<00:00,  2.05it/s]\n"
     ]
    },
    {
     "name": "stdout",
     "output_type": "stream",
     "text": [
      "Running: Patient=2, Feature=3, Engaged=0, Seed=5, Summarized=0, Vectorizer=1\n",
      "Running: Patient=2, Feature=3, Engaged=0, Seed=5, Summarized=0, Vectorizer=2\n"
     ]
    },
    {
     "name": "stderr",
     "output_type": "stream",
     "text": [
      "100%|██████████| 696/696 [04:08<00:00,  2.80it/s]\n"
     ]
    },
    {
     "name": "stdout",
     "output_type": "stream",
     "text": [
      "Running: Patient=2, Feature=3, Engaged=0, Seed=5, Summarized=1, Vectorizer=1\n",
      "Running: Patient=2, Feature=3, Engaged=0, Seed=5, Summarized=1, Vectorizer=2\n"
     ]
    },
    {
     "name": "stderr",
     "output_type": "stream",
     "text": [
      "100%|██████████| 696/696 [02:58<00:00,  3.90it/s]\n"
     ]
    },
    {
     "name": "stdout",
     "output_type": "stream",
     "text": [
      "Running: Patient=2, Feature=3, Engaged=0, Seed=6, Summarized=0, Vectorizer=1\n",
      "Running: Patient=2, Feature=3, Engaged=0, Seed=6, Summarized=0, Vectorizer=2\n"
     ]
    },
    {
     "name": "stderr",
     "output_type": "stream",
     "text": [
      "100%|██████████| 696/696 [02:51<00:00,  4.06it/s]\n"
     ]
    },
    {
     "name": "stdout",
     "output_type": "stream",
     "text": [
      "Running: Patient=2, Feature=3, Engaged=0, Seed=6, Summarized=1, Vectorizer=1\n",
      "Running: Patient=2, Feature=3, Engaged=0, Seed=6, Summarized=1, Vectorizer=2\n"
     ]
    },
    {
     "name": "stderr",
     "output_type": "stream",
     "text": [
      "100%|██████████| 696/696 [02:52<00:00,  4.02it/s]\n"
     ]
    },
    {
     "name": "stdout",
     "output_type": "stream",
     "text": [
      "Running: Patient=2, Feature=3, Engaged=0, Seed=7, Summarized=0, Vectorizer=1\n",
      "Running: Patient=2, Feature=3, Engaged=0, Seed=7, Summarized=0, Vectorizer=2\n"
     ]
    },
    {
     "name": "stderr",
     "output_type": "stream",
     "text": [
      "100%|██████████| 696/696 [02:53<00:00,  4.01it/s]\n"
     ]
    },
    {
     "name": "stdout",
     "output_type": "stream",
     "text": [
      "Running: Patient=2, Feature=3, Engaged=0, Seed=7, Summarized=1, Vectorizer=1\n",
      "Running: Patient=2, Feature=3, Engaged=0, Seed=7, Summarized=1, Vectorizer=2\n"
     ]
    },
    {
     "name": "stderr",
     "output_type": "stream",
     "text": [
      "100%|██████████| 696/696 [02:53<00:00,  4.02it/s]\n"
     ]
    },
    {
     "name": "stdout",
     "output_type": "stream",
     "text": [
      "Running: Patient=2, Feature=3, Engaged=0, Seed=8, Summarized=0, Vectorizer=1\n",
      "Running: Patient=2, Feature=3, Engaged=0, Seed=8, Summarized=0, Vectorizer=2\n"
     ]
    },
    {
     "name": "stderr",
     "output_type": "stream",
     "text": [
      "100%|██████████| 696/696 [02:54<00:00,  3.99it/s]\n"
     ]
    },
    {
     "name": "stdout",
     "output_type": "stream",
     "text": [
      "Running: Patient=2, Feature=3, Engaged=0, Seed=8, Summarized=1, Vectorizer=1\n",
      "Running: Patient=2, Feature=3, Engaged=0, Seed=8, Summarized=1, Vectorizer=2\n"
     ]
    },
    {
     "name": "stderr",
     "output_type": "stream",
     "text": [
      "100%|██████████| 696/696 [02:53<00:00,  4.02it/s]\n"
     ]
    },
    {
     "name": "stdout",
     "output_type": "stream",
     "text": [
      "Running: Patient=2, Feature=3, Engaged=0, Seed=9, Summarized=0, Vectorizer=1\n",
      "Running: Patient=2, Feature=3, Engaged=0, Seed=9, Summarized=0, Vectorizer=2\n"
     ]
    },
    {
     "name": "stderr",
     "output_type": "stream",
     "text": [
      "100%|██████████| 696/696 [02:55<00:00,  3.96it/s]\n"
     ]
    },
    {
     "name": "stdout",
     "output_type": "stream",
     "text": [
      "Running: Patient=2, Feature=3, Engaged=0, Seed=9, Summarized=1, Vectorizer=1\n",
      "Running: Patient=2, Feature=3, Engaged=0, Seed=9, Summarized=1, Vectorizer=2\n"
     ]
    },
    {
     "name": "stderr",
     "output_type": "stream",
     "text": [
      "100%|██████████| 696/696 [02:55<00:00,  3.97it/s]\n"
     ]
    },
    {
     "name": "stdout",
     "output_type": "stream",
     "text": [
      "Running: Patient=2, Feature=3, Engaged=0, Seed=10, Summarized=0, Vectorizer=1\n",
      "Running: Patient=2, Feature=3, Engaged=0, Seed=10, Summarized=0, Vectorizer=2\n"
     ]
    },
    {
     "name": "stderr",
     "output_type": "stream",
     "text": [
      "100%|██████████| 696/696 [02:55<00:00,  3.97it/s]\n"
     ]
    },
    {
     "name": "stdout",
     "output_type": "stream",
     "text": [
      "Running: Patient=2, Feature=3, Engaged=0, Seed=10, Summarized=1, Vectorizer=1\n",
      "Running: Patient=2, Feature=3, Engaged=0, Seed=10, Summarized=1, Vectorizer=2\n"
     ]
    },
    {
     "name": "stderr",
     "output_type": "stream",
     "text": [
      "100%|██████████| 696/696 [03:02<00:00,  3.82it/s]\n"
     ]
    },
    {
     "name": "stdout",
     "output_type": "stream",
     "text": [
      "Running: Patient=2, Feature=3, Engaged=0, Seed=11, Summarized=0, Vectorizer=1\n",
      "Running: Patient=2, Feature=3, Engaged=0, Seed=11, Summarized=0, Vectorizer=2\n"
     ]
    },
    {
     "name": "stderr",
     "output_type": "stream",
     "text": [
      "100%|██████████| 696/696 [02:57<00:00,  3.93it/s]\n"
     ]
    },
    {
     "name": "stdout",
     "output_type": "stream",
     "text": [
      "Running: Patient=2, Feature=3, Engaged=0, Seed=11, Summarized=1, Vectorizer=1\n",
      "Running: Patient=2, Feature=3, Engaged=0, Seed=11, Summarized=1, Vectorizer=2\n"
     ]
    },
    {
     "name": "stderr",
     "output_type": "stream",
     "text": [
      "100%|██████████| 696/696 [02:57<00:00,  3.92it/s]\n"
     ]
    },
    {
     "name": "stdout",
     "output_type": "stream",
     "text": [
      "Running: Patient=2, Feature=3, Engaged=0, Seed=12, Summarized=0, Vectorizer=1\n",
      "Running: Patient=2, Feature=3, Engaged=0, Seed=12, Summarized=0, Vectorizer=2\n"
     ]
    },
    {
     "name": "stderr",
     "output_type": "stream",
     "text": [
      "100%|██████████| 696/696 [02:53<00:00,  4.02it/s]\n"
     ]
    },
    {
     "name": "stdout",
     "output_type": "stream",
     "text": [
      "Running: Patient=2, Feature=3, Engaged=0, Seed=12, Summarized=1, Vectorizer=1\n",
      "Running: Patient=2, Feature=3, Engaged=0, Seed=12, Summarized=1, Vectorizer=2\n"
     ]
    },
    {
     "name": "stderr",
     "output_type": "stream",
     "text": [
      "100%|██████████| 696/696 [02:52<00:00,  4.04it/s]\n"
     ]
    },
    {
     "name": "stdout",
     "output_type": "stream",
     "text": [
      "Running: Patient=2, Feature=3, Engaged=0, Seed=13, Summarized=0, Vectorizer=1\n",
      "Running: Patient=2, Feature=3, Engaged=0, Seed=13, Summarized=0, Vectorizer=2\n"
     ]
    },
    {
     "name": "stderr",
     "output_type": "stream",
     "text": [
      "100%|██████████| 696/696 [02:52<00:00,  4.03it/s]\n"
     ]
    },
    {
     "name": "stdout",
     "output_type": "stream",
     "text": [
      "Running: Patient=2, Feature=3, Engaged=0, Seed=13, Summarized=1, Vectorizer=1\n",
      "Running: Patient=2, Feature=3, Engaged=0, Seed=13, Summarized=1, Vectorizer=2\n"
     ]
    },
    {
     "name": "stderr",
     "output_type": "stream",
     "text": [
      "100%|██████████| 696/696 [24:56<00:00,  2.15s/it]    \n"
     ]
    },
    {
     "name": "stdout",
     "output_type": "stream",
     "text": [
      "Running: Patient=2, Feature=3, Engaged=0, Seed=14, Summarized=0, Vectorizer=1\n",
      "Running: Patient=2, Feature=3, Engaged=0, Seed=14, Summarized=0, Vectorizer=2\n"
     ]
    },
    {
     "name": "stderr",
     "output_type": "stream",
     "text": [
      "100%|██████████| 696/696 [18:53<00:00,  1.63s/it]   \n"
     ]
    },
    {
     "name": "stdout",
     "output_type": "stream",
     "text": [
      "Running: Patient=2, Feature=3, Engaged=0, Seed=14, Summarized=1, Vectorizer=1\n",
      "Running: Patient=2, Feature=3, Engaged=0, Seed=14, Summarized=1, Vectorizer=2\n"
     ]
    },
    {
     "name": "stderr",
     "output_type": "stream",
     "text": [
      "100%|██████████| 696/696 [03:07<00:00,  3.72it/s]\n"
     ]
    },
    {
     "name": "stdout",
     "output_type": "stream",
     "text": [
      "Running: Patient=2, Feature=3, Engaged=0, Seed=15, Summarized=0, Vectorizer=1\n",
      "Running: Patient=2, Feature=3, Engaged=0, Seed=15, Summarized=0, Vectorizer=2\n"
     ]
    },
    {
     "name": "stderr",
     "output_type": "stream",
     "text": [
      "100%|██████████| 696/696 [03:10<00:00,  3.66it/s]\n"
     ]
    },
    {
     "name": "stdout",
     "output_type": "stream",
     "text": [
      "Running: Patient=2, Feature=3, Engaged=0, Seed=15, Summarized=1, Vectorizer=1\n",
      "Running: Patient=2, Feature=3, Engaged=0, Seed=15, Summarized=1, Vectorizer=2\n"
     ]
    },
    {
     "name": "stderr",
     "output_type": "stream",
     "text": [
      "100%|██████████| 696/696 [03:02<00:00,  3.81it/s]\n"
     ]
    },
    {
     "name": "stdout",
     "output_type": "stream",
     "text": [
      "Running: Patient=2, Feature=3, Engaged=0, Seed=16, Summarized=0, Vectorizer=1\n",
      "Running: Patient=2, Feature=3, Engaged=0, Seed=16, Summarized=0, Vectorizer=2\n"
     ]
    },
    {
     "name": "stderr",
     "output_type": "stream",
     "text": [
      "100%|██████████| 696/696 [02:38<00:00,  4.38it/s]\n"
     ]
    },
    {
     "name": "stdout",
     "output_type": "stream",
     "text": [
      "Running: Patient=2, Feature=3, Engaged=0, Seed=16, Summarized=1, Vectorizer=1\n",
      "Running: Patient=2, Feature=3, Engaged=0, Seed=16, Summarized=1, Vectorizer=2\n"
     ]
    },
    {
     "name": "stderr",
     "output_type": "stream",
     "text": [
      "100%|██████████| 696/696 [02:40<00:00,  4.33it/s]\n"
     ]
    },
    {
     "name": "stdout",
     "output_type": "stream",
     "text": [
      "Running: Patient=2, Feature=3, Engaged=0, Seed=17, Summarized=0, Vectorizer=1\n",
      "Running: Patient=2, Feature=3, Engaged=0, Seed=17, Summarized=0, Vectorizer=2\n"
     ]
    },
    {
     "name": "stderr",
     "output_type": "stream",
     "text": [
      "100%|██████████| 696/696 [02:41<00:00,  4.31it/s]\n"
     ]
    },
    {
     "name": "stdout",
     "output_type": "stream",
     "text": [
      "Running: Patient=2, Feature=3, Engaged=0, Seed=17, Summarized=1, Vectorizer=1\n",
      "Running: Patient=2, Feature=3, Engaged=0, Seed=17, Summarized=1, Vectorizer=2\n"
     ]
    },
    {
     "name": "stderr",
     "output_type": "stream",
     "text": [
      "100%|██████████| 696/696 [02:42<00:00,  4.29it/s]\n"
     ]
    },
    {
     "name": "stdout",
     "output_type": "stream",
     "text": [
      "Running: Patient=2, Feature=3, Engaged=0, Seed=18, Summarized=0, Vectorizer=1\n",
      "Running: Patient=2, Feature=3, Engaged=0, Seed=18, Summarized=0, Vectorizer=2\n"
     ]
    },
    {
     "name": "stderr",
     "output_type": "stream",
     "text": [
      "100%|██████████| 696/696 [02:42<00:00,  4.29it/s]\n"
     ]
    },
    {
     "name": "stdout",
     "output_type": "stream",
     "text": [
      "Running: Patient=2, Feature=3, Engaged=0, Seed=18, Summarized=1, Vectorizer=1\n",
      "Running: Patient=2, Feature=3, Engaged=0, Seed=18, Summarized=1, Vectorizer=2\n"
     ]
    },
    {
     "name": "stderr",
     "output_type": "stream",
     "text": [
      "100%|██████████| 696/696 [02:44<00:00,  4.24it/s]\n"
     ]
    },
    {
     "name": "stdout",
     "output_type": "stream",
     "text": [
      "Running: Patient=2, Feature=3, Engaged=0, Seed=19, Summarized=0, Vectorizer=1\n",
      "Running: Patient=2, Feature=3, Engaged=0, Seed=19, Summarized=0, Vectorizer=2\n"
     ]
    },
    {
     "name": "stderr",
     "output_type": "stream",
     "text": [
      "100%|██████████| 696/696 [02:46<00:00,  4.19it/s]\n"
     ]
    },
    {
     "name": "stdout",
     "output_type": "stream",
     "text": [
      "Running: Patient=2, Feature=3, Engaged=0, Seed=19, Summarized=1, Vectorizer=1\n",
      "Running: Patient=2, Feature=3, Engaged=0, Seed=19, Summarized=1, Vectorizer=2\n"
     ]
    },
    {
     "name": "stderr",
     "output_type": "stream",
     "text": [
      "100%|██████████| 696/696 [02:47<00:00,  4.15it/s]\n"
     ]
    },
    {
     "name": "stdout",
     "output_type": "stream",
     "text": [
      "Running: Patient=2, Feature=3, Engaged=0, Seed=20, Summarized=0, Vectorizer=1\n",
      "Running: Patient=2, Feature=3, Engaged=0, Seed=20, Summarized=0, Vectorizer=2\n"
     ]
    },
    {
     "name": "stderr",
     "output_type": "stream",
     "text": [
      "100%|██████████| 696/696 [02:48<00:00,  4.14it/s]\n"
     ]
    },
    {
     "name": "stdout",
     "output_type": "stream",
     "text": [
      "Running: Patient=2, Feature=3, Engaged=0, Seed=20, Summarized=1, Vectorizer=1\n",
      "Running: Patient=2, Feature=3, Engaged=0, Seed=20, Summarized=1, Vectorizer=2\n"
     ]
    },
    {
     "name": "stderr",
     "output_type": "stream",
     "text": [
      "100%|██████████| 696/696 [02:48<00:00,  4.14it/s]\n"
     ]
    },
    {
     "name": "stdout",
     "output_type": "stream",
     "text": [
      "Running: Patient=2, Feature=3, Engaged=0, Seed=21, Summarized=0, Vectorizer=1\n",
      "Running: Patient=2, Feature=3, Engaged=0, Seed=21, Summarized=0, Vectorizer=2\n"
     ]
    },
    {
     "name": "stderr",
     "output_type": "stream",
     "text": [
      "100%|██████████| 696/696 [02:48<00:00,  4.13it/s]\n"
     ]
    },
    {
     "name": "stdout",
     "output_type": "stream",
     "text": [
      "Running: Patient=2, Feature=3, Engaged=0, Seed=21, Summarized=1, Vectorizer=1\n",
      "Running: Patient=2, Feature=3, Engaged=0, Seed=21, Summarized=1, Vectorizer=2\n"
     ]
    },
    {
     "name": "stderr",
     "output_type": "stream",
     "text": [
      "100%|██████████| 696/696 [02:46<00:00,  4.17it/s]\n"
     ]
    },
    {
     "name": "stdout",
     "output_type": "stream",
     "text": [
      "Running: Patient=2, Feature=3, Engaged=0, Seed=22, Summarized=0, Vectorizer=1\n",
      "Running: Patient=2, Feature=3, Engaged=0, Seed=22, Summarized=0, Vectorizer=2\n"
     ]
    },
    {
     "name": "stderr",
     "output_type": "stream",
     "text": [
      "100%|██████████| 696/696 [02:48<00:00,  4.14it/s]\n"
     ]
    },
    {
     "name": "stdout",
     "output_type": "stream",
     "text": [
      "Running: Patient=2, Feature=3, Engaged=0, Seed=22, Summarized=1, Vectorizer=1\n",
      "Running: Patient=2, Feature=3, Engaged=0, Seed=22, Summarized=1, Vectorizer=2\n"
     ]
    },
    {
     "name": "stderr",
     "output_type": "stream",
     "text": [
      "100%|██████████| 696/696 [02:45<00:00,  4.20it/s]\n"
     ]
    },
    {
     "name": "stdout",
     "output_type": "stream",
     "text": [
      "Running: Patient=2, Feature=3, Engaged=0, Seed=23, Summarized=0, Vectorizer=1\n",
      "Running: Patient=2, Feature=3, Engaged=0, Seed=23, Summarized=0, Vectorizer=2\n"
     ]
    },
    {
     "name": "stderr",
     "output_type": "stream",
     "text": [
      "100%|██████████| 696/696 [02:48<00:00,  4.14it/s]\n"
     ]
    },
    {
     "name": "stdout",
     "output_type": "stream",
     "text": [
      "Running: Patient=2, Feature=3, Engaged=0, Seed=23, Summarized=1, Vectorizer=1\n",
      "Running: Patient=2, Feature=3, Engaged=0, Seed=23, Summarized=1, Vectorizer=2\n"
     ]
    },
    {
     "name": "stderr",
     "output_type": "stream",
     "text": [
      "100%|██████████| 696/696 [02:46<00:00,  4.18it/s]\n"
     ]
    },
    {
     "name": "stdout",
     "output_type": "stream",
     "text": [
      "Running: Patient=2, Feature=3, Engaged=0, Seed=24, Summarized=0, Vectorizer=1\n",
      "Running: Patient=2, Feature=3, Engaged=0, Seed=24, Summarized=0, Vectorizer=2\n"
     ]
    },
    {
     "name": "stderr",
     "output_type": "stream",
     "text": [
      "100%|██████████| 696/696 [02:48<00:00,  4.13it/s]\n"
     ]
    },
    {
     "name": "stdout",
     "output_type": "stream",
     "text": [
      "Running: Patient=2, Feature=3, Engaged=0, Seed=24, Summarized=1, Vectorizer=1\n",
      "Running: Patient=2, Feature=3, Engaged=0, Seed=24, Summarized=1, Vectorizer=2\n"
     ]
    },
    {
     "name": "stderr",
     "output_type": "stream",
     "text": [
      "100%|██████████| 696/696 [02:45<00:00,  4.20it/s]\n"
     ]
    },
    {
     "name": "stdout",
     "output_type": "stream",
     "text": [
      "Running: Patient=2, Feature=3, Engaged=0, Seed=25, Summarized=0, Vectorizer=1\n",
      "Running: Patient=2, Feature=3, Engaged=0, Seed=25, Summarized=0, Vectorizer=2\n"
     ]
    },
    {
     "name": "stderr",
     "output_type": "stream",
     "text": [
      "100%|██████████| 696/696 [02:46<00:00,  4.18it/s]\n"
     ]
    },
    {
     "name": "stdout",
     "output_type": "stream",
     "text": [
      "Running: Patient=2, Feature=3, Engaged=0, Seed=25, Summarized=1, Vectorizer=1\n",
      "Running: Patient=2, Feature=3, Engaged=0, Seed=25, Summarized=1, Vectorizer=2\n"
     ]
    },
    {
     "name": "stderr",
     "output_type": "stream",
     "text": [
      "100%|██████████| 696/696 [02:49<00:00,  4.12it/s]\n"
     ]
    },
    {
     "name": "stdout",
     "output_type": "stream",
     "text": [
      "Running: Patient=2, Feature=3, Engaged=0, Seed=26, Summarized=0, Vectorizer=1\n",
      "Running: Patient=2, Feature=3, Engaged=0, Seed=26, Summarized=0, Vectorizer=2\n"
     ]
    },
    {
     "name": "stderr",
     "output_type": "stream",
     "text": [
      "100%|██████████| 696/696 [02:50<00:00,  4.08it/s]\n"
     ]
    },
    {
     "name": "stdout",
     "output_type": "stream",
     "text": [
      "Running: Patient=2, Feature=3, Engaged=0, Seed=26, Summarized=1, Vectorizer=1\n",
      "Running: Patient=2, Feature=3, Engaged=0, Seed=26, Summarized=1, Vectorizer=2\n"
     ]
    },
    {
     "name": "stderr",
     "output_type": "stream",
     "text": [
      "100%|██████████| 696/696 [02:49<00:00,  4.10it/s]\n"
     ]
    },
    {
     "name": "stdout",
     "output_type": "stream",
     "text": [
      "Running: Patient=2, Feature=3, Engaged=0, Seed=27, Summarized=0, Vectorizer=1\n",
      "Running: Patient=2, Feature=3, Engaged=0, Seed=27, Summarized=0, Vectorizer=2\n"
     ]
    },
    {
     "name": "stderr",
     "output_type": "stream",
     "text": [
      "100%|██████████| 696/696 [02:48<00:00,  4.12it/s]\n"
     ]
    },
    {
     "name": "stdout",
     "output_type": "stream",
     "text": [
      "Running: Patient=2, Feature=3, Engaged=0, Seed=27, Summarized=1, Vectorizer=1\n",
      "Running: Patient=2, Feature=3, Engaged=0, Seed=27, Summarized=1, Vectorizer=2\n"
     ]
    },
    {
     "name": "stderr",
     "output_type": "stream",
     "text": [
      "100%|██████████| 696/696 [02:54<00:00,  3.98it/s]\n"
     ]
    },
    {
     "name": "stdout",
     "output_type": "stream",
     "text": [
      "Running: Patient=2, Feature=3, Engaged=0, Seed=28, Summarized=0, Vectorizer=1\n",
      "Running: Patient=2, Feature=3, Engaged=0, Seed=28, Summarized=0, Vectorizer=2\n"
     ]
    },
    {
     "name": "stderr",
     "output_type": "stream",
     "text": [
      " 21%|██        | 144/696 [00:36<03:19,  2.76it/s]"
     ]
    }
   ],
   "source": [
    "for patient_subset in PATIENT_SUBSETS:\n",
    "    for feature_subset in FEATURE_SUBSETS:\n",
    "        for engaged in ENGAGED_VALUES:\n",
    "            for seed in SEEDS:\n",
    "                for summarized in SUMMARIZED_OPTIONS:\n",
    "                    for vectorize_option in VECTORIZERS:\n",
    "                        try:\n",
    "                            print(f\"Running: Patient={patient_subset}, Feature={feature_subset}, \"\n",
    "                                  f\"Engaged={engaged}, Seed={seed}, Summarized={summarized}, \"\n",
    "                                  f\"Vectorizer={vectorize_option}\")\n",
    "\n",
    "                            df = load_and_preprocess(FILE_PATH, patient_subset, engaged, summarized, feature_subset)\n",
    "                            df = vectorize_text(df, feature_subset, vectorize_option, summarized, patient_subset)\n",
    "\n",
    "                    \n",
    "                            # df.to_csv(f\"p-{patient_subset}f-{feature_subset}e-{engaged}s-{seed}sm-{summarized}v-{vectorize_option}.csv\", index=False)\n",
    "\n",
    "                            X = df.drop('day_readmit', axis=1)\n",
    "                            y = df['day_readmit']\n",
    "\n",
    "\n",
    "                            results = train_and_evaluate_models(X, y, seed)\n",
    "\n",
    "                            final_results = {\n",
    "                                \"Patient Subset\": patient_subset,\n",
    "                                \"Feature Subset\": feature_subset,\n",
    "                                \"Engaged\": engaged,\n",
    "                                \"Seed\": seed,\n",
    "                                \"Summarized\": summarized,\n",
    "                                \"Vectorizer\": vectorize_option,\n",
    "                                **{f\"{clf}_{metric}\": val for clf, metrics in results.items() for metric, val in metrics.items()},\n",
    "                            }\n",
    "\n",
    "                            append_results_to_csv(final_results, OUTPUT_CSV)\n",
    "\n",
    "                        except Exception as e:\n",
    "                            print(f\"Error: {e} | Params: {patient_subset, feature_subset, engaged, seed, summarized, vectorize_option}\")\n",
    "                            continue\n"
   ]
  }
 ],
 "metadata": {
  "kernelspec": {
   "display_name": "Python 3",
   "language": "python",
   "name": "python3"
  },
  "language_info": {
   "codemirror_mode": {
    "name": "ipython",
    "version": 3
   },
   "file_extension": ".py",
   "mimetype": "text/x-python",
   "name": "python",
   "nbconvert_exporter": "python",
   "pygments_lexer": "ipython3",
   "version": "3.9.6"
  }
 },
 "nbformat": 4,
 "nbformat_minor": 5
}
